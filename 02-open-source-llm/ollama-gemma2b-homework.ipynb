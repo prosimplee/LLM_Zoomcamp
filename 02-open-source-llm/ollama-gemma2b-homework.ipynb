{
 "cells": [
  {
   "cell_type": "markdown",
   "id": "aee0e4b6-ccd0-4113-85a4-2a8912eaf071",
   "metadata": {},
   "source": [
    "## Running Ollama with Docker"
   ]
  },
  {
   "cell_type": "markdown",
   "id": "6b264e9f-0099-4fdf-9829-9f70caf288f3",
   "metadata": {},
   "source": [
    "docker run -it \\\n",
    "    --rm \\\n",
    "    -v ollama:/root/.ollama \\\n",
    "    -p 11434:11434 \\\n",
    "    --name ollama \\\n",
    "    ollama/ollama"
   ]
  },
  {
   "cell_type": "markdown",
   "id": "3bd9a89a-a22f-4fa6-afcd-0b16c390b490",
   "metadata": {},
   "source": [
    "## Downloading an LLM"
   ]
  },
  {
   "cell_type": "code",
   "execution_count": 2,
   "id": "674d426e-2824-46cf-aed0-fd71bc9e47f7",
   "metadata": {},
   "outputs": [],
   "source": [
    "# ollama pull gemma:2b"
   ]
  },
  {
   "cell_type": "markdown",
   "id": "ca6c2312-029e-4907-8a30-b230aaa22bad",
   "metadata": {},
   "source": [
    "## 1.1 Running the LLM"
   ]
  },
  {
   "cell_type": "code",
   "execution_count": 7,
   "id": "81274469-794a-4fd7-8c96-93e1f1642d22",
   "metadata": {},
   "outputs": [],
   "source": [
    "from openai import OpenAI\n",
    "import json\n",
    "import minsearch"
   ]
  },
  {
   "cell_type": "code",
   "execution_count": 8,
   "id": "1d0ecd1b-c58d-4ae1-9e56-85e6147e3ddf",
   "metadata": {},
   "outputs": [],
   "source": [
    "client = OpenAI(\n",
    "        base_url='http://localhost:11434/v1/',\n",
    "        api_key='ollama',\n",
    "        )"
   ]
  },
  {
   "cell_type": "code",
   "execution_count": 14,
   "id": "ae41081e-33da-4947-b29a-21246d87eaaa",
   "metadata": {},
   "outputs": [],
   "source": [
    "def llm(question):\n",
    "    response = client.chat.completions.create(\n",
    "        model = 'gemma:2b',\n",
    "        messages = [{'role' : 'user', 'content' : question}],\n",
    "        temperature=0.0)\n",
    "    return response"
   ]
  },
  {
   "cell_type": "code",
   "execution_count": 15,
   "id": "1c9f7ae1-23d2-43b3-87b8-93f04fec535e",
   "metadata": {},
   "outputs": [],
   "source": [
    "answer = llm(\"What's the formula for energy?\")"
   ]
  },
  {
   "cell_type": "code",
   "execution_count": 16,
   "id": "cbe8dfbb-7645-4c6a-9347-02013605e8b0",
   "metadata": {},
   "outputs": [
    {
     "name": "stdout",
     "output_type": "stream",
     "text": [
      "Sure, here's the formula for energy:\n",
      "\n",
      "**E = K + U**\n",
      "\n",
      "Where:\n",
      "\n",
      "* **E** is the energy in joules (J)\n",
      "* **K** is the kinetic energy in joules (J)\n",
      "* **U** is the potential energy in joules (J)\n",
      "\n",
      "**Kinetic energy (K)** is the energy an object possesses when it moves or is in motion. It is calculated as half the product of an object's mass (m) and its velocity (v) squared:\n",
      "\n",
      "**K = 1/2mv^2**\n",
      "\n",
      "**Potential energy (U)** is the energy an object possesses due to its position or configuration. It is calculated as the product of an object's mass, gravitational constant (g), and height or position above a reference point.\n",
      "\n",
      "**U = mgh**\n",
      "\n",
      "**Where:**\n",
      "\n",
      "* **m** is the mass in kilograms (kg)\n",
      "* **g** is the acceleration due to gravity in meters per second squared (m/s²)\n",
      "* **h** is the height or position in meters (m)\n",
      "\n",
      "The formula shows that energy can be expressed as the sum of kinetic and potential energy. The kinetic energy is a measure of the object's ability to do work, while the potential energy is a measure of the object's ability to do work against gravity.\n"
     ]
    }
   ],
   "source": [
    "print(answer.choices[0].message.content)"
   ]
  },
  {
   "cell_type": "code",
   "execution_count": 17,
   "id": "5e97f179-33b5-42ce-86c3-46213bf87769",
   "metadata": {},
   "outputs": [
    {
     "data": {
      "text/plain": [
       "283"
      ]
     },
     "execution_count": 17,
     "metadata": {},
     "output_type": "execute_result"
    }
   ],
   "source": [
    "answer.usage.completion_tokens"
   ]
  },
  {
   "cell_type": "code",
   "execution_count": null,
   "id": "27ab95f1-da31-4594-8d5d-634ade1ac3ce",
   "metadata": {},
   "outputs": [],
   "source": []
  }
 ],
 "metadata": {
  "kernelspec": {
   "display_name": "Python 3 (ipykernel)",
   "language": "python",
   "name": "python3"
  },
  "language_info": {
   "codemirror_mode": {
    "name": "ipython",
    "version": 3
   },
   "file_extension": ".py",
   "mimetype": "text/x-python",
   "name": "python",
   "nbconvert_exporter": "python",
   "pygments_lexer": "ipython3",
   "version": "3.12.4"
  }
 },
 "nbformat": 4,
 "nbformat_minor": 5
}
