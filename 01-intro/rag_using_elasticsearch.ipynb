{
 "cells": [
  {
   "cell_type": "code",
   "execution_count": 59,
   "id": "7377b720-efe0-4365-9634-0fd635f9db47",
   "metadata": {},
   "outputs": [],
   "source": [
    "from openai import OpenAI\n",
    "import json\n",
    "import minsearch"
   ]
  },
  {
   "cell_type": "code",
   "execution_count": 60,
   "id": "b98c2295-e9d0-426d-b3b3-d8612d92c09b",
   "metadata": {},
   "outputs": [],
   "source": [
    "with open ('/Users/dmitrywer/Desktop/my_projects/LLM_Zoomcamp/documents.json','r') as file:\n",
    "    docs_raw = json.load(file)"
   ]
  },
  {
   "cell_type": "code",
   "execution_count": 61,
   "id": "1f475aa9-49f9-4ebd-b48b-70b5d2a848f8",
   "metadata": {},
   "outputs": [],
   "source": [
    "documents = []\n",
    "\n",
    "for course_dict in docs_raw:\n",
    "    for doc in course_dict['documents']:\n",
    "        doc['course'] = course_dict['course']\n",
    "        documents.append(doc)"
   ]
  },
  {
   "cell_type": "code",
   "execution_count": 62,
   "id": "5e0a5296-f900-49aa-bebb-adbff93359b8",
   "metadata": {},
   "outputs": [
    {
     "data": {
      "text/plain": [
       "{'text': 'Check Docker Compose File:\\nEnsure that your docker-compose.yaml file is correctly configured with the necessary details for the \"control-center\" service. Check the service name, image name, ports, volumes, environment variables, and any other configurations required for the container to start.\\nOn Mac OSX 12.2.1 (Monterey) I could not start the kafka control center. I opened Docker Desktop and saw docker images still running from week 4, which I did not see when I typed “docker ps.” I deleted them in docker desktop and then had no problem starting up the kafka environment.',\n",
       " 'section': 'Module 6: streaming with kafka',\n",
       " 'question': 'Could not start docker image “control-center” from the docker-compose.yaml file.',\n",
       " 'course': 'data-engineering-zoomcamp'}"
      ]
     },
     "execution_count": 62,
     "metadata": {},
     "output_type": "execute_result"
    }
   ],
   "source": [
    "documents[1]"
   ]
  },
  {
   "cell_type": "code",
   "execution_count": 63,
   "id": "e6d98688-cc4a-4dfe-8db3-5be2e4e68b3b",
   "metadata": {},
   "outputs": [],
   "source": [
    "from elasticsearch import Elasticsearch"
   ]
  },
  {
   "cell_type": "code",
   "execution_count": 64,
   "id": "b5c0b17e-161c-4da3-85dd-a7808070893c",
   "metadata": {},
   "outputs": [],
   "source": [
    "es_client = Elasticsearch('http://localhost:9200')"
   ]
  },
  {
   "cell_type": "code",
   "execution_count": 65,
   "id": "01edf994-b2fa-4353-bb63-d5718374e42c",
   "metadata": {},
   "outputs": [
    {
     "data": {
      "text/plain": [
       "ObjectApiResponse({'name': '4430ec89bf8f', 'cluster_name': 'docker-cluster', 'cluster_uuid': 'HUtv_Lg2RxilTfYA7b2zRA', 'version': {'number': '8.4.3', 'build_flavor': 'default', 'build_type': 'docker', 'build_hash': '42f05b9372a9a4a470db3b52817899b99a76ee73', 'build_date': '2022-10-04T07:17:24.662462378Z', 'build_snapshot': False, 'lucene_version': '9.3.0', 'minimum_wire_compatibility_version': '7.17.0', 'minimum_index_compatibility_version': '7.0.0'}, 'tagline': 'You Know, for Search'})"
      ]
     },
     "execution_count": 65,
     "metadata": {},
     "output_type": "execute_result"
    }
   ],
   "source": [
    "es_client.info()"
   ]
  },
  {
   "cell_type": "code",
   "execution_count": 66,
   "id": "53fc72a5-4072-40e3-b80e-ba96611895e5",
   "metadata": {},
   "outputs": [],
   "source": [
    "index_settings = {\n",
    "    \"settings\": {\n",
    "        \"number_of_shards\": 1,\n",
    "        \"number_of_replicas\": 0\n",
    "    },\n",
    "    \"mappings\": {\n",
    "        \"properties\": {\n",
    "            \"text\": {\"type\": \"text\"},\n",
    "            \"section\": {\"type\": \"text\"},\n",
    "            \"question\": {\"type\": \"text\"},\n",
    "            \"course\": {\"type\": \"keyword\"} \n",
    "        }\n",
    "    }\n",
    "}"
   ]
  },
  {
   "cell_type": "code",
   "execution_count": 67,
   "id": "e10f3444-770c-422a-a96a-35a8cfc7a87d",
   "metadata": {},
   "outputs": [],
   "source": [
    "index_name = 'data-engineering-course'"
   ]
  },
  {
   "cell_type": "code",
   "execution_count": 68,
   "id": "61b2f3a7-395b-4ed4-9192-19a3585e87b7",
   "metadata": {},
   "outputs": [
    {
     "data": {
      "text/plain": [
       "ObjectApiResponse({'acknowledged': True, 'shards_acknowledged': True, 'index': 'data-engineering-course'})"
      ]
     },
     "execution_count": 68,
     "metadata": {},
     "output_type": "execute_result"
    }
   ],
   "source": [
    "es_client.indices.create(index=index_name, body = index_settings)"
   ]
  },
  {
   "cell_type": "code",
   "execution_count": 69,
   "id": "f7bd35ec-8290-469b-9f53-fa94e0520454",
   "metadata": {},
   "outputs": [],
   "source": [
    "for doc in documents:\n",
    "    es_client.index(index=index_name, document=doc)"
   ]
  },
  {
   "cell_type": "code",
   "execution_count": 74,
   "id": "f3abac55-c32b-4f65-b6c6-6cee9c1cfb36",
   "metadata": {},
   "outputs": [],
   "source": [
    "def elastic_search(query):\n",
    "    search_query = {\n",
    "    \"size\": 3,\n",
    "    \"query\": {\n",
    "        \"bool\": {\n",
    "            \"must\": {\n",
    "                \"multi_match\": {\n",
    "                    \"query\": query,\n",
    "                    \"fields\": [\"question^3\", \"text\", \"section\"],\n",
    "                    \"type\": \"best_fields\"\n",
    "                }\n",
    "            },\n",
    "            \"filter\": {\n",
    "                \"term\": {\n",
    "                    \"course\": \"data-engineering-zoomcamp\"\n",
    "                    }\n",
    "                }\n",
    "            }\n",
    "        }\n",
    "    }    \n",
    "    response = es_client.search(body=search_query, index=index_name)\n",
    "    results = []\n",
    "    for res in response['hits']['hits']:\n",
    "        results.append(res['_source'])\n",
    "    return results"
   ]
  },
  {
   "cell_type": "code",
   "execution_count": 71,
   "id": "b76d939b-b9cc-4b28-99d4-689c5a921747",
   "metadata": {},
   "outputs": [],
   "source": [
    "def build_prompt(question, search_results):\n",
    "    prompt_template = \"\"\"\n",
    "You're a course teaching assistant. Answer the QUESTION based on the CONTEXT from the FAQ database.\n",
    "Use only the facts from the CONTEXT when answering the QUESTION. If there is no answer, return NONE.\n",
    "    \n",
    "QUESTION: {question}\n",
    "    \n",
    "CONTEXT: \n",
    "{context}\n",
    "\"\"\".strip()\n",
    "    context = ''\n",
    "    for doc in search_results:\n",
    "        context = context + f'section: {doc['section']}\\nquestion: {doc['question']}\\ncontext: {doc['text']}\\n\\n'\n",
    "    return prompt_template.format(question = question, context = context)"
   ]
  },
  {
   "cell_type": "code",
   "execution_count": 72,
   "id": "ae41081e-33da-4947-b29a-21246d87eaaa",
   "metadata": {},
   "outputs": [],
   "source": [
    "def llm(prompt):\n",
    "    client = OpenAI()\n",
    "    response = client.chat.completions.create(\n",
    "        model = 'gpt-4o',\n",
    "        messages = [{'role' : 'user', 'content' : prompt}])\n",
    "    return response.choices[0].message.content"
   ]
  },
  {
   "cell_type": "code",
   "execution_count": 75,
   "id": "36a82236-0224-4868-a6e8-47684519b701",
   "metadata": {},
   "outputs": [],
   "source": [
    "def rag(query):\n",
    "    search_results = elastic_search(query)\n",
    "    prompt = build_prompt(query, search_results)\n",
    "    answer = llm(prompt)\n",
    "    return answer"
   ]
  },
  {
   "cell_type": "code",
   "execution_count": 76,
   "id": "1c9f7ae1-23d2-43b3-87b8-93f04fec535e",
   "metadata": {},
   "outputs": [
    {
     "data": {
      "text/plain": [
       "'Your capstone project will be evaluated by 3 (three) randomly assigned students who have also submitted their projects. You will also be responsible for grading the projects of 3 fellow students. Failure to comply with this peer review responsibility means you will not achieve the Certificate at the end of the course. The final grade you receive will be the median score of the grades given by the peer reviewers. The peer review criteria for evaluating projects must follow the guidelines defined by the course. \\n\\nFor reproducibility, while it is ideal to re-run everything, it is understood that not everyone may have the time to do so. Thus, checking the code by looking at it to spot errors or missing instructions is considered acceptable.'"
      ]
     },
     "execution_count": 76,
     "metadata": {},
     "output_type": "execute_result"
    }
   ],
   "source": [
    "rag(\"\"\"How is my capstone project going to be evaluated?\"\"\")"
   ]
  },
  {
   "cell_type": "code",
   "execution_count": null,
   "id": "f5d4f4dc-8143-4e13-b476-a167d1cae1a3",
   "metadata": {},
   "outputs": [],
   "source": []
  }
 ],
 "metadata": {
  "kernelspec": {
   "display_name": "Python 3 (ipykernel)",
   "language": "python",
   "name": "python3"
  },
  "language_info": {
   "codemirror_mode": {
    "name": "ipython",
    "version": 3
   },
   "file_extension": ".py",
   "mimetype": "text/x-python",
   "name": "python",
   "nbconvert_exporter": "python",
   "pygments_lexer": "ipython3",
   "version": "3.12.4"
  }
 },
 "nbformat": 4,
 "nbformat_minor": 5
}
