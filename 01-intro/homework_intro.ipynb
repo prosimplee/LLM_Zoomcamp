{
 "cells": [
  {
   "cell_type": "code",
   "execution_count": 1,
   "id": "ebca791b-18f7-49e8-9f58-a81bd2f25c7c",
   "metadata": {},
   "outputs": [],
   "source": [
    "import openai"
   ]
  },
  {
   "cell_type": "code",
   "execution_count": 2,
   "id": "29b29beb-990e-4813-8998-c33a0d28a4f1",
   "metadata": {},
   "outputs": [],
   "source": [
    "from openai import OpenAI"
   ]
  },
  {
   "cell_type": "code",
   "execution_count": 3,
   "id": "9295221a-e57e-45b2-aeee-ec62e4799e8e",
   "metadata": {},
   "outputs": [],
   "source": [
    "client = OpenAI()"
   ]
  },
  {
   "cell_type": "code",
   "execution_count": 14,
   "id": "e5e5751a-caf9-4c88-b2ba-319e23bb674d",
   "metadata": {},
   "outputs": [],
   "source": [
    "response = client.chat.completions.create(model='gpt-3.5-turbo',\n",
    "                                   messages=[{\"role\": \"user\", \"content\": \"how to cook salmon?\"}])\n"
   ]
  },
  {
   "cell_type": "code",
   "execution_count": 29,
   "id": "a36a427e-46af-456d-9094-68f28dbe91e4",
   "metadata": {},
   "outputs": [
    {
     "name": "stdout",
     "output_type": "stream",
     "text": [
      "There are many ways to cook salmon, but here is a basic recipe for baked salmon:\n",
      "\n",
      "1. Preheat your oven to 375°F (190°C).\n",
      "\n",
      "2. Place your salmon fillet on a baking sheet lined with parchment paper or aluminum foil.\n",
      "\n",
      "3. Drizzle the salmon with olive oil and season with salt, pepper, and any other desired seasonings (such as garlic powder, lemon pepper, or dill).\n",
      "\n",
      "4. If desired, top the salmon with slices of lemon or fresh herbs like parsley or dill.\n",
      "\n",
      "5. Bake the salmon in the preheated oven for about 12-15 minutes, or until the fish flakes easily with a fork.\n",
      "\n",
      "6. Remove the salmon from the oven and let it rest for a few minutes before serving.\n",
      "\n",
      "You can also grill, broil, poach, or pan-sear salmon for different cooking methods. Enjoy your delicious and healthy salmon meal!\n"
     ]
    }
   ],
   "source": [
    "print(response.choices[0].message.content)"
   ]
  },
  {
   "cell_type": "code",
   "execution_count": null,
   "id": "6a7d9d8b-eb83-488d-89c1-943cd4138344",
   "metadata": {},
   "outputs": [],
   "source": []
  }
 ],
 "metadata": {
  "kernelspec": {
   "display_name": "Python 3 (ipykernel)",
   "language": "python",
   "name": "python3"
  },
  "language_info": {
   "codemirror_mode": {
    "name": "ipython",
    "version": 3
   },
   "file_extension": ".py",
   "mimetype": "text/x-python",
   "name": "python",
   "nbconvert_exporter": "python",
   "pygments_lexer": "ipython3",
   "version": "3.12.4"
  }
 },
 "nbformat": 4,
 "nbformat_minor": 5
}
