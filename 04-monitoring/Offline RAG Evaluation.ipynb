{
 "cells": [
  {
   "cell_type": "markdown",
   "id": "8fec5544-b41a-48ee-ba9f-ec8c38f1b8ef",
   "metadata": {},
   "source": [
    "## Load the documents with ids"
   ]
  },
  {
   "cell_type": "code",
   "execution_count": 22,
   "id": "56f3bf23-3669-401a-80f8-0ace4dda4791",
   "metadata": {},
   "outputs": [],
   "source": [
    "import json\n",
    "with open ('documents-with-id.json', 'r') as file:\n",
    "    documents = json.load(file)"
   ]
  },
  {
   "cell_type": "code",
   "execution_count": 38,
   "id": "41d513e7-8d3e-42f4-ac57-3c3763cb1165",
   "metadata": {},
   "outputs": [
    {
     "data": {
      "text/plain": [
       "{'text': 'Yes. For the 2024 edition we are using Mage AI instead of Prefect and re-recorded the terraform videos, For 2023, we used Prefect instead of Airflow..',\n",
       " 'section': 'General course-related questions',\n",
       " 'question': 'Course - Is the current cohort going to be different from the previous cohort?',\n",
       " 'course': 'data-engineering-zoomcamp',\n",
       " 'id': 'f1d31564'}"
      ]
     },
     "execution_count": 38,
     "metadata": {},
     "output_type": "execute_result"
    }
   ],
   "source": [
    "documents[6]"
   ]
  },
  {
   "cell_type": "markdown",
   "id": "81eafe29-d8bf-4776-bb49-7451062f067f",
   "metadata": {},
   "source": [
    "## Load groud truth data"
   ]
  },
  {
   "cell_type": "code",
   "execution_count": 20,
   "id": "adee7e90-67ba-489b-92cc-5fda60a2ce4e",
   "metadata": {},
   "outputs": [],
   "source": [
    "import pandas as pd\n",
    "with open ('ground-truth-data.csv', 'r') as g_file:\n",
    "    ground_truth_df = pd.read_csv(g_file)\n",
    "    ground_truth_df = ground_truth_df.where(ground_truth_df['course'] == 'data-engineering-zoomcamp')\n",
    "    ground_truth = ground_truth_df.to_dict(orient='records')"
   ]
  },
  {
   "cell_type": "code",
   "execution_count": 21,
   "id": "d7cc867c-7c87-465f-ab63-2073ea94631d",
   "metadata": {},
   "outputs": [
    {
     "data": {
      "text/plain": [
       "{'question': 'Can I enroll in the course after it starts?',\n",
       " 'course': 'data-engineering-zoomcamp',\n",
       " 'document': '7842b56a'}"
      ]
     },
     "execution_count": 21,
     "metadata": {},
     "output_type": "execute_result"
    }
   ],
   "source": [
    "ground_truth[10]"
   ]
  },
  {
   "cell_type": "markdown",
   "id": "98e23367-b236-454d-8b9b-a9d4cc2763e3",
   "metadata": {},
   "source": [
    "## To quickly retrieve the documents let's assign id directly"
   ]
  },
  {
   "cell_type": "code",
   "execution_count": 27,
   "id": "57655809-2ea9-4304-b659-f134856f2247",
   "metadata": {},
   "outputs": [],
   "source": [
    "doc_id = {d['id'] : d for d in documents}"
   ]
  },
  {
   "cell_type": "code",
   "execution_count": 35,
   "id": "1b68a577-2188-4bbe-8812-a0ef5f8de996",
   "metadata": {},
   "outputs": [
    {
     "data": {
      "text/plain": [
       "'Yes. For the 2024 edition we are using Mage AI instead of Prefect and re-recorded the terraform videos, For 2023, we used Prefect instead of Airflow..'"
      ]
     },
     "execution_count": 35,
     "metadata": {},
     "output_type": "execute_result"
    }
   ],
   "source": [
    "doc_id['f1d31564']['text']"
   ]
  },
  {
   "cell_type": "markdown",
   "id": "f9c6aaa5-b103-4fee-a52b-c326a45b48c7",
   "metadata": {},
   "source": [
    "## Let's index the documents"
   ]
  },
  {
   "cell_type": "code",
   "execution_count": 43,
   "id": "4d48500f-c39c-45cc-bd81-29a25345ab57",
   "metadata": {},
   "outputs": [],
   "source": [
    "from sentence_transformers import SentenceTransformer\n",
    "from elasticsearch import Elasticsearch"
   ]
  },
  {
   "cell_type": "code",
   "execution_count": 45,
   "id": "1b24989e-97ac-458b-8b69-17159890a855",
   "metadata": {},
   "outputs": [],
   "source": [
    "model_name = 'multi-qa-MiniLM-L6-cos-v1'\n",
    "model = SentenceTransformer(model_name)"
   ]
  },
  {
   "cell_type": "code",
   "execution_count": 46,
   "id": "88c7678a-0892-4412-8163-fb04fa1ed16e",
   "metadata": {},
   "outputs": [],
   "source": [
    "es_client = Elasticsearch('http://localhost:9200') "
   ]
  },
  {
   "cell_type": "code",
   "execution_count": 47,
   "id": "74697b5c-7ed1-4e4d-97e9-a77451d8adb7",
   "metadata": {},
   "outputs": [],
   "source": [
    "index_settings = {\n",
    "    \"settings\": {\n",
    "        \"number_of_shards\": 1,\n",
    "        \"number_of_replicas\": 0\n",
    "    },\n",
    "    \"mappings\": {\n",
    "        \"properties\": {\n",
    "            \"text\": {\"type\": \"text\"},\n",
    "            \"section\": {\"type\": \"text\"},\n",
    "            \"question\": {\"type\": \"text\"},\n",
    "            \"course\": {\"type\": \"keyword\"},\n",
    "            \"id\": {\"type\": \"keyword\"},\n",
    "            \"question_text_vector\": {\n",
    "                \"type\": \"dense_vector\",\n",
    "                \"dims\": 384,\n",
    "                \"index\": True,\n",
    "                \"similarity\": \"cosine\"\n",
    "            },\n",
    "        }\n",
    "    }\n",
    "}"
   ]
  },
  {
   "cell_type": "code",
   "execution_count": 48,
   "id": "ecc417c5-ff99-40fb-a595-0be7050a0950",
   "metadata": {},
   "outputs": [
    {
     "data": {
      "text/plain": [
       "ObjectApiResponse({'acknowledged': True, 'shards_acknowledged': True, 'index': 'course-questions'})"
      ]
     },
     "execution_count": 48,
     "metadata": {},
     "output_type": "execute_result"
    }
   ],
   "source": [
    "index_name = \"course-questions\"\n",
    "\n",
    "es_client.indices.delete(index=index_name, ignore_unavailable=True)\n",
    "es_client.indices.create(index=index_name, body=index_settings)"
   ]
  },
  {
   "cell_type": "code",
   "execution_count": 50,
   "id": "669a7739-b549-42c1-9546-ae739b081fa2",
   "metadata": {},
   "outputs": [],
   "source": [
    "for doc in documents:\n",
    "    question = doc['question']\n",
    "    text = doc['text']\n",
    "    \n",
    "    doc['question_text_vector'] = model.encode(question + ' ' + text)\n",
    "    es_client.index(index=index_name, document=doc)"
   ]
  },
  {
   "cell_type": "markdown",
   "id": "85fb2cb8-fd66-461f-99f4-45bd7f554974",
   "metadata": {},
   "source": [
    "## Retrieve the documents based on our query"
   ]
  },
  {
   "cell_type": "code",
   "execution_count": 128,
   "id": "e637f9ff-f961-49a1-a9c8-3d4c3fa34dc5",
   "metadata": {},
   "outputs": [],
   "source": [
    "def elastic_search_knn(field, vector, course):\n",
    "    knn = {\n",
    "            \"field\": field,\n",
    "            \"query_vector\": vector,\n",
    "            \"k\": 3,\n",
    "            \"num_candidates\": 10000,\n",
    "            \"filter\": {\n",
    "                \"term\": {\n",
    "                    \"course\": course\n",
    "                }\n",
    "            }\n",
    "        }\n",
    "\n",
    "    search_query = {\n",
    "        \"knn\": knn,\n",
    "        \"_source\": [\"text\", \"section\", \"question\", \"course\", \"id\"]\n",
    "        }    \n",
    "\n",
    "    es_results = es_client.search(\n",
    "        index=index_name,\n",
    "        body=search_query\n",
    "        )\n",
    "\n",
    "    result_docs = []\n",
    "    \n",
    "    for res in es_results['hits']['hits']:\n",
    "        result_docs.append(res['_source'])\n",
    "\n",
    "    return result_docs"
   ]
  },
  {
   "cell_type": "code",
   "execution_count": 129,
   "id": "6ee4d1e7-56c7-430b-8746-8bd0f8c9e51d",
   "metadata": {},
   "outputs": [],
   "source": [
    "def question_text_vector_knn(q, course):\n",
    "    q_encoded = model.encode(q)\n",
    "    field = 'question_text_vector'\n",
    "    \n",
    "    search = elastic_search_knn(field, q_encoded, course)\n",
    "    return search"
   ]
  },
  {
   "cell_type": "code",
   "execution_count": 130,
   "id": "c1a8a533-a56d-4b56-be8c-7133d0603bc3",
   "metadata": {},
   "outputs": [
    {
     "data": {
      "text/plain": [
       "[{'question': 'What if I miss a session?',\n",
       "  'course': 'machine-learning-zoomcamp',\n",
       "  'section': 'General course-related questions',\n",
       "  'text': 'Everything is recorded, so you won’t miss anything. You will be able to ask your questions for office hours in advance and we will cover them during the live stream. Also, you can always ask questions in Slack.',\n",
       "  'id': '7dcaefe4'},\n",
       " {'question': 'Is it going to be live? When?',\n",
       "  'course': 'machine-learning-zoomcamp',\n",
       "  'section': 'General course-related questions',\n",
       "  'text': 'The course videos are pre-recorded, you can start watching the course right now.\\nWe will also occasionally have office hours - live sessions where we will answer your questions. The office hours sessions are recorded too.\\nYou can see the office hours as well as the pre-recorded course videos in the course playlist on YouTube.',\n",
       "  'id': '162728a4'},\n",
       " {'question': 'The same accuracy on epochs',\n",
       "  'course': 'machine-learning-zoomcamp',\n",
       "  'section': '8. Neural Networks and Deep Learning',\n",
       "  'text': \"Problem description\\nThe accuracy and the loss are both still the same or nearly the same while training.\\nSolution description\\nIn the homework, you should set class_mode='binary' while reading the data.\\nAlso, problem occurs when you choose the wrong optimizer, batch size, or learning rate\\nAdded by Ekaterina Kutovaia\",\n",
       "  'id': '163e8c97'}]"
      ]
     },
     "execution_count": 130,
     "metadata": {},
     "output_type": "execute_result"
    }
   ],
   "source": [
    "question_text_vector_knn(q = 'Are sessions recorded if I miss one?', course='machine-learning-zoomcamp')"
   ]
  },
  {
   "cell_type": "code",
   "execution_count": 142,
   "id": "f956e63b-8063-46d6-9a99-8463a044e9d5",
   "metadata": {},
   "outputs": [],
   "source": [
    "def built_prompt(question, search_results):\n",
    "    prompt_template = \"\"\"\n",
    "You're a course teaching assistant. Answer the QUESTION based on the CONTEXT from the FAQ database.\n",
    "Use only the facts from the CONTEXT when answering the QUESTION. If there is no answer, return NONE.\n",
    "    \n",
    "QUESTION: {question}\n",
    "    \n",
    "CONTEXT: \n",
    "{context}\n",
    "\"\"\".strip()\n",
    "    context = ''\n",
    "    for doc in search_results:\n",
    "        context = context + f'section: {doc['section']}\\nquestion: {doc['question']}\\ncontext: {doc['text']}\\n\\n'\n",
    "    return prompt_template.format(question = question, context = context)"
   ]
  },
  {
   "cell_type": "code",
   "execution_count": 139,
   "id": "acda8f0b-0b69-43e2-8ba5-99d4e6afb247",
   "metadata": {},
   "outputs": [],
   "source": [
    "from openai import OpenAI\n",
    "\n",
    "client = OpenAI()\n",
    "\n",
    "def llm(prompt, model='gpt-4o'):\n",
    "    response = client.chat.completions.create(\n",
    "        model=model,\n",
    "        messages=[{\"role\": \"user\", \"content\": prompt}]\n",
    "    )\n",
    "    \n",
    "    return response.choices[0].message.content"
   ]
  },
  {
   "cell_type": "code",
   "execution_count": 140,
   "id": "b0d78c1e-b6c6-40bc-916b-a96cf5884d43",
   "metadata": {},
   "outputs": [],
   "source": [
    "def rag(q, course):\n",
    "    search_results = question_text_vector_knn(q, course) # get results from db\n",
    "    prompt = built_prompt(question = q, search_results = search_results) # build prompt by results and question\n",
    "    answer = llm(prompt)\n",
    "    return answer"
   ]
  },
  {
   "cell_type": "code",
   "execution_count": 143,
   "id": "990b1bdc-5999-4fa4-a218-a734d83443de",
   "metadata": {},
   "outputs": [
    {
     "data": {
      "text/plain": [
       "'NONE'"
      ]
     },
     "execution_count": 143,
     "metadata": {},
     "output_type": "execute_result"
    }
   ],
   "source": [
    "rag('How the project would be evaludated?', 'data-engineering-zoomcamp')"
   ]
  },
  {
   "cell_type": "raw",
   "id": "c71455e7-0fb4-4ac2-adb0-4f82a31b4cfc",
   "metadata": {},
   "source": []
  },
  {
   "cell_type": "code",
   "execution_count": null,
   "id": "57c2ffd0-b84e-4dcf-9199-f3f28e0b0d11",
   "metadata": {},
   "outputs": [],
   "source": []
  }
 ],
 "metadata": {
  "kernelspec": {
   "display_name": "Python 3 (ipykernel)",
   "language": "python",
   "name": "python3"
  },
  "language_info": {
   "codemirror_mode": {
    "name": "ipython",
    "version": 3
   },
   "file_extension": ".py",
   "mimetype": "text/x-python",
   "name": "python",
   "nbconvert_exporter": "python",
   "pygments_lexer": "ipython3",
   "version": "3.12.4"
  }
 },
 "nbformat": 4,
 "nbformat_minor": 5
}
