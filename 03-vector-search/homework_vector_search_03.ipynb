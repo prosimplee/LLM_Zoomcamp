{
 "cells": [
  {
   "cell_type": "markdown",
   "id": "4504774c-fc69-42a4-9dbc-ae9c29d4da7d",
   "metadata": {},
   "source": [
    "# [1] Define the model"
   ]
  },
  {
   "cell_type": "code",
   "execution_count": 92,
   "id": "6b26f96b-e3bf-4960-84b6-1f12f73a07d7",
   "metadata": {},
   "outputs": [],
   "source": [
    "from sentence_transformers import SentenceTransformer\n",
    "\n",
    "embedding_model = SentenceTransformer('multi-qa-distilbert-cos-v1')"
   ]
  },
  {
   "cell_type": "code",
   "execution_count": 93,
   "id": "76ab6ff6-2102-43d0-9041-ed4bd3b07cec",
   "metadata": {},
   "outputs": [],
   "source": [
    "query = \"I just discovered the course. Can I still join it?\""
   ]
  },
  {
   "cell_type": "markdown",
   "id": "b555d0db-e87a-40e8-9be1-806abbce0842",
   "metadata": {},
   "source": [
    "## 1.1. First value of resulting vector after embendding"
   ]
  },
  {
   "cell_type": "code",
   "execution_count": 94,
   "id": "8b4202ad-d080-4d16-a18c-1038b4f6c581",
   "metadata": {},
   "outputs": [
    {
     "data": {
      "text/plain": [
       "0.07822261"
      ]
     },
     "execution_count": 94,
     "metadata": {},
     "output_type": "execute_result"
    }
   ],
   "source": [
    "embedding_model.encode(query)[0]"
   ]
  },
  {
   "cell_type": "code",
   "execution_count": 95,
   "id": "23387893-36c3-45d3-a049-6f3e3446a41d",
   "metadata": {},
   "outputs": [],
   "source": [
    "v = embedding_model.encode(query)"
   ]
  },
  {
   "cell_type": "markdown",
   "id": "c50bb49e-55ea-4e14-9c2e-a7de2e0d0fbf",
   "metadata": {},
   "source": [
    "## 1.2. Number of parameters for embedding"
   ]
  },
  {
   "cell_type": "code",
   "execution_count": 96,
   "id": "f0e95b9f-6c95-4465-820f-f4eda1263b10",
   "metadata": {},
   "outputs": [
    {
     "data": {
      "text/plain": [
       "768"
      ]
     },
     "execution_count": 96,
     "metadata": {},
     "output_type": "execute_result"
    }
   ],
   "source": [
    "len(v)"
   ]
  },
  {
   "cell_type": "markdown",
   "id": "29f5d4fc-4018-4f4a-b71f-fccb5d9aa692",
   "metadata": {},
   "source": [
    "# [2] Get the documents"
   ]
  },
  {
   "cell_type": "code",
   "execution_count": 97,
   "id": "c4af2c0f-5fd0-4f9e-b1de-69bf7146af5a",
   "metadata": {},
   "outputs": [],
   "source": [
    "import requests \n",
    "\n",
    "base_url = 'https://github.com/DataTalksClub/llm-zoomcamp/blob/main'\n",
    "relative_url = '03-vector-search/eval/documents-with-ids.json'\n",
    "docs_url = f'{base_url}/{relative_url}?raw=1'\n",
    "docs_response = requests.get(docs_url)\n",
    "documents = docs_response.json()"
   ]
  },
  {
   "cell_type": "markdown",
   "id": "3a7338a8-f1ce-44f7-a403-7b6809bc7cb0",
   "metadata": {},
   "source": [
    "## 2.1 Filter by course"
   ]
  },
  {
   "cell_type": "code",
   "execution_count": 98,
   "id": "d1298216-2cd9-4142-83be-87f0b418b538",
   "metadata": {},
   "outputs": [],
   "source": [
    "documents = [doc for doc in documents if doc['course'] == 'machine-learning-zoomcamp']"
   ]
  },
  {
   "cell_type": "code",
   "execution_count": 99,
   "id": "2dec0582-02c6-4980-a7b9-a3df22f53bb0",
   "metadata": {},
   "outputs": [
    {
     "data": {
      "text/plain": [
       "375"
      ]
     },
     "execution_count": 99,
     "metadata": {},
     "output_type": "execute_result"
    }
   ],
   "source": [
    "len(documents)"
   ]
  },
  {
   "cell_type": "markdown",
   "id": "37bddadc-9744-4ed2-84c5-da8dfad1985c",
   "metadata": {},
   "source": [
    "## 2.2 Documents vectorization (question/ text)"
   ]
  },
  {
   "cell_type": "code",
   "execution_count": 100,
   "id": "5bf11ccd-3e0d-42a0-925d-1b1b46cb6dc1",
   "metadata": {},
   "outputs": [],
   "source": [
    "embeddings = []\n",
    "\n",
    "for doc in documents:\n",
    "    qa_text = f'{doc['question']} {doc['text']}'\n",
    "    embeddings.append(embedding_model.encode(qa_text))"
   ]
  },
  {
   "cell_type": "code",
   "execution_count": 101,
   "id": "8be35b3d-4d82-41b0-af31-533c37f35330",
   "metadata": {},
   "outputs": [
    {
     "data": {
      "text/plain": [
       "(375, 768)"
      ]
     },
     "execution_count": 101,
     "metadata": {},
     "output_type": "execute_result"
    }
   ],
   "source": [
    "import numpy as np\n",
    "\n",
    "X = np.array(embeddings)\n",
    "X.shape\n",
    "# N: Docs, N: Vectors per doc"
   ]
  },
  {
   "cell_type": "code",
   "execution_count": 102,
   "id": "b4b91d4b-368b-4920-8e08-0d9282f3aebb",
   "metadata": {},
   "outputs": [
    {
     "data": {
      "text/plain": [
       "0.9999999"
      ]
     },
     "execution_count": 102,
     "metadata": {},
     "output_type": "execute_result"
    }
   ],
   "source": [
    "v.dot(v)"
   ]
  },
  {
   "cell_type": "markdown",
   "id": "90ab9573-198f-4bdb-8968-85d5fce59454",
   "metadata": {},
   "source": [
    "## 2.3 Max Score for q based on documents (cosine similarity)"
   ]
  },
  {
   "cell_type": "code",
   "execution_count": 103,
   "id": "f1df8174-44f7-4cce-a108-0a0af51a3140",
   "metadata": {},
   "outputs": [],
   "source": [
    "scores = X.dot(v)"
   ]
  },
  {
   "cell_type": "code",
   "execution_count": 104,
   "id": "4249e7ed-c165-44ab-98e2-8932fcaaa8f3",
   "metadata": {},
   "outputs": [
    {
     "data": {
      "text/plain": [
       "0.6506574"
      ]
     },
     "execution_count": 104,
     "metadata": {},
     "output_type": "execute_result"
    }
   ],
   "source": [
    "max(scores)"
   ]
  },
  {
   "cell_type": "markdown",
   "id": "eff1a9cd-8449-4fb2-bd05-384182aac9c5",
   "metadata": {},
   "source": [
    "# [3] Simple Vector Search "
   ]
  },
  {
   "cell_type": "markdown",
   "id": "cc6a1367-7e05-4f68-b506-cb2de8711e1b",
   "metadata": {},
   "source": [
    "## 3.1 Define simple vector search"
   ]
  },
  {
   "cell_type": "code",
   "execution_count": 105,
   "id": "39eccf37-ef0c-4ded-a23f-b4f115a39a68",
   "metadata": {},
   "outputs": [
    {
     "data": {
      "text/plain": [
       "[{'text': 'Yes, you can. You won’t be able to submit some of the homeworks, but you can still take part in the course.\\nIn order to get a certificate, you need to submit 2 out of 3 course projects and review 3 peers’ Projects by the deadline. It means that if you join the course at the end of November and manage to work on two projects, you will still be eligible for a certificate.',\n",
       "  'section': 'General course-related questions',\n",
       "  'question': 'The course has already started. Can I still join it?',\n",
       "  'course': 'machine-learning-zoomcamp',\n",
       "  'id': 'ee58a693'},\n",
       " {'text': 'Welcome to the course! Go to the course page (http://mlzoomcamp.com/), scroll down and start going through the course materials. Then read everything in the cohort folder for your cohort’s year.\\nClick on the links and start watching the videos. Also watch office hours from previous cohorts. Go to DTC youtube channel and click on Playlists and search for {course yyyy}. ML Zoomcamp was first launched in 2021.\\nOr you can just use this link: http://mlzoomcamp.com/#syllabus',\n",
       "  'section': 'General course-related questions',\n",
       "  'question': 'I just joined. What should I do next? How can I access course materials?',\n",
       "  'course': 'machine-learning-zoomcamp',\n",
       "  'id': '0a278fb2'},\n",
       " {'text': \"The process is automated now, so you should receive the email eventually. If you haven’t, check your promotions tab in Gmail as well as spam.\\nIf you unsubscribed from our newsletter, you won't get course related updates too.\\nBut don't worry, it’s not a problem. To make sure you don’t miss anything, join the #course-ml-zoomcamp channel in Slack and our telegram channel with announcements. This is enough to follow the course.\",\n",
       "  'section': 'General course-related questions',\n",
       "  'question': \"I filled the form, but haven't received a confirmation email. Is it normal?\",\n",
       "  'course': 'machine-learning-zoomcamp',\n",
       "  'id': '6ba259b1'}]"
      ]
     },
     "execution_count": 105,
     "metadata": {},
     "output_type": "execute_result"
    }
   ],
   "source": [
    "class VectorSearchEngine():\n",
    "    def __init__(self, documents, embeddings):\n",
    "        self.documents = documents\n",
    "        self.embeddings = embeddings\n",
    "\n",
    "    def search(self, v_query, num_results=10):\n",
    "        scores = self.embeddings.dot(v_query)\n",
    "        idx = np.argsort(-scores)[:num_results]\n",
    "        return [self.documents[i] for i in idx]\n",
    "\n",
    "search_engine = VectorSearchEngine(documents=documents, embeddings=X)\n",
    "search_engine.search(v, num_results=3) # Max Score = 0.65065 (1-st document)"
   ]
  },
  {
   "cell_type": "markdown",
   "id": "a341a7f2-03f8-4809-a9cb-cd9df4c4cb28",
   "metadata": {},
   "source": [
    "## 3.2 Define Elastic Search"
   ]
  },
  {
   "cell_type": "code",
   "execution_count": 106,
   "id": "92387edc-832d-434a-975b-ed1e9f790096",
   "metadata": {},
   "outputs": [
    {
     "data": {
      "text/plain": [
       "ObjectApiResponse({'acknowledged': True, 'shards_acknowledged': True, 'index': 'course-questions'})"
      ]
     },
     "execution_count": 106,
     "metadata": {},
     "output_type": "execute_result"
    }
   ],
   "source": [
    "from elasticsearch import Elasticsearch\n",
    "\n",
    "es_client = Elasticsearch('http://localhost:9200')\n",
    "es_client.info()\n",
    "\n",
    "index_settings = {\n",
    "    \"settings\": {\n",
    "        \"number_of_shards\": 1,\n",
    "        \"number_of_replicas\": 0\n",
    "    },\n",
    "    \"mappings\": {\n",
    "        \"properties\": {\n",
    "            \"text\": {\"type\": \"text\"},\n",
    "            \"section\": {\"type\": \"text\"},\n",
    "            \"question\": {\"type\": \"text\"},\n",
    "            \"course\": {\"type\": \"keyword\"},\n",
    "            \"id\": {\"type\": \"keyword\"},\n",
    "            \"question_text_vector\": {\n",
    "                \"type\": \"dense_vector\",\n",
    "                \"dims\": 768,\n",
    "                \"index\": True,\n",
    "                \"similarity\": \"cosine\"\n",
    "            }\n",
    "        }\n",
    "    }\n",
    "}\n",
    "\n",
    "index_name = 'course-questions'\n",
    "\n",
    "es_client.indices.delete(index = index_name, ignore_unavailable = True)\n",
    "es_client.indices.create(index = index_name, body = index_settings)"
   ]
  },
  {
   "cell_type": "code",
   "execution_count": 107,
   "id": "e4f22b26-fab9-4986-af47-6ed481a5cd81",
   "metadata": {},
   "outputs": [],
   "source": [
    "i = 0\n",
    "for doc in documents:\n",
    "    doc['question_text_vector'] = X[i, :]\n",
    "    i = i + 1\n",
    "    es_client.index(index=index_name, document=doc)"
   ]
  },
  {
   "cell_type": "code",
   "execution_count": 108,
   "id": "4cc7dc13-b1df-41d7-a366-de3f2e08c2cb",
   "metadata": {},
   "outputs": [],
   "source": [
    "def elastic_search_knn(field, vector, course):\n",
    "    knn = {\n",
    "        \"field\": field,\n",
    "        \"query_vector\": vector,\n",
    "        \"k\": 5,\n",
    "        \"num_candidates\": 10000,\n",
    "        \"filter\": {\n",
    "            \"term\": {\n",
    "                \"course\": course\n",
    "            }\n",
    "        }\n",
    "    }\n",
    "\n",
    "    search_query = {\n",
    "        \"knn\": knn,\n",
    "        \"_source\": [\"text\", \"section\", \"question\", \"course\", \"id\"]\n",
    "    }\n",
    "\n",
    "    es_results = es_client.search(\n",
    "        index=index_name,\n",
    "        body=search_query\n",
    "    )\n",
    "    \n",
    "    result_docs = []\n",
    "    \n",
    "    for hit in es_results['hits']['hits']:\n",
    "        result_docs.append(hit['_source'])\n",
    "\n",
    "    return result_docs"
   ]
  },
  {
   "cell_type": "code",
   "execution_count": 109,
   "id": "5754b5a0-4bd3-4b51-980f-b8b57e3c2c62",
   "metadata": {},
   "outputs": [],
   "source": [
    "i = 0\n",
    "for doc in documents:\n",
    "    doc['question_text_vector'] = X[i, :]\n",
    "    i = i + 1\n",
    "    es_client.index(index=index_name, document=doc)"
   ]
  },
  {
   "cell_type": "code",
   "execution_count": 110,
   "id": "577f28e8-c05d-4438-92af-6ab9e40d87d5",
   "metadata": {},
   "outputs": [
    {
     "data": {
      "text/plain": [
       "[{'question': 'The course has already started. Can I still join it?',\n",
       "  'course': 'machine-learning-zoomcamp',\n",
       "  'section': 'General course-related questions',\n",
       "  'text': 'Yes, you can. You won’t be able to submit some of the homeworks, but you can still take part in the course.\\nIn order to get a certificate, you need to submit 2 out of 3 course projects and review 3 peers’ Projects by the deadline. It means that if you join the course at the end of November and manage to work on two projects, you will still be eligible for a certificate.',\n",
       "  'id': 'ee58a693'},\n",
       " {'question': 'The course has already started. Can I still join it?',\n",
       "  'course': 'machine-learning-zoomcamp',\n",
       "  'section': 'General course-related questions',\n",
       "  'text': 'Yes, you can. You won’t be able to submit some of the homeworks, but you can still take part in the course.\\nIn order to get a certificate, you need to submit 2 out of 3 course projects and review 3 peers’ Projects by the deadline. It means that if you join the course at the end of November and manage to work on two projects, you will still be eligible for a certificate.',\n",
       "  'id': 'ee58a693'},\n",
       " {'question': 'I just joined. What should I do next? How can I access course materials?',\n",
       "  'course': 'machine-learning-zoomcamp',\n",
       "  'section': 'General course-related questions',\n",
       "  'text': 'Welcome to the course! Go to the course page (http://mlzoomcamp.com/), scroll down and start going through the course materials. Then read everything in the cohort folder for your cohort’s year.\\nClick on the links and start watching the videos. Also watch office hours from previous cohorts. Go to DTC youtube channel and click on Playlists and search for {course yyyy}. ML Zoomcamp was first launched in 2021.\\nOr you can just use this link: http://mlzoomcamp.com/#syllabus',\n",
       "  'id': '0a278fb2'},\n",
       " {'question': 'I just joined. What should I do next? How can I access course materials?',\n",
       "  'course': 'machine-learning-zoomcamp',\n",
       "  'section': 'General course-related questions',\n",
       "  'text': 'Welcome to the course! Go to the course page (http://mlzoomcamp.com/), scroll down and start going through the course materials. Then read everything in the cohort folder for your cohort’s year.\\nClick on the links and start watching the videos. Also watch office hours from previous cohorts. Go to DTC youtube channel and click on Playlists and search for {course yyyy}. ML Zoomcamp was first launched in 2021.\\nOr you can just use this link: http://mlzoomcamp.com/#syllabus',\n",
       "  'id': '0a278fb2'},\n",
       " {'question': \"I filled the form, but haven't received a confirmation email. Is it normal?\",\n",
       "  'course': 'machine-learning-zoomcamp',\n",
       "  'section': 'General course-related questions',\n",
       "  'text': \"The process is automated now, so you should receive the email eventually. If you haven’t, check your promotions tab in Gmail as well as spam.\\nIf you unsubscribed from our newsletter, you won't get course related updates too.\\nBut don't worry, it’s not a problem. To make sure you don’t miss anything, join the #course-ml-zoomcamp channel in Slack and our telegram channel with announcements. This is enough to follow the course.\",\n",
       "  'id': '6ba259b1'}]"
      ]
     },
     "execution_count": 110,
     "metadata": {},
     "output_type": "execute_result"
    }
   ],
   "source": [
    "user_question = \"I just discovered the course. Can I still join it?\"\n",
    "v = embedding_model.encode(user_question)\n",
    "elastic_search_knn(\"question_text_vector\", v, \"machine-learning-zoomcamp\")"
   ]
  },
  {
   "cell_type": "markdown",
   "id": "bd7ecf27-2ef6-48fb-92c0-bc27a0108a47",
   "metadata": {},
   "source": [
    "# [4] Hit-rate for our Simple Vector Search"
   ]
  },
  {
   "cell_type": "markdown",
   "id": "7b930f72-b019-4a31-bde4-c35e56141bc0",
   "metadata": {},
   "source": [
    "## 4.1 Hit-rate for our Simple Vector Search"
   ]
  },
  {
   "cell_type": "code",
   "execution_count": 111,
   "id": "812ff89c-ac45-45eb-9fb8-2a836b4ce233",
   "metadata": {},
   "outputs": [],
   "source": [
    "import pandas as pd\n",
    "\n",
    "df_ground_truth = pd.read_csv('ground-truth-data.csv')\n",
    "df_ground_truth = df_ground_truth[df_ground_truth.course == 'machine-learning-zoomcamp']\n",
    "ground_truth = df_ground_truth.to_dict(orient='records')"
   ]
  },
  {
   "cell_type": "code",
   "execution_count": 112,
   "id": "2a7eda92-129c-4a70-b1be-232edc9d99d9",
   "metadata": {},
   "outputs": [
    {
     "data": {
      "text/plain": [
       "[{'question': 'Where can I sign up for the course?',\n",
       "  'course': 'machine-learning-zoomcamp',\n",
       "  'document': '0227b872'},\n",
       " {'question': 'Can you provide a link to sign up?',\n",
       "  'course': 'machine-learning-zoomcamp',\n",
       "  'document': '0227b872'},\n",
       " {'question': 'Is there an FAQ for this Machine Learning course?',\n",
       "  'course': 'machine-learning-zoomcamp',\n",
       "  'document': '0227b872'}]"
      ]
     },
     "execution_count": 112,
     "metadata": {},
     "output_type": "execute_result"
    }
   ],
   "source": [
    "ground_truth[:3]"
   ]
  },
  {
   "cell_type": "code",
   "execution_count": 113,
   "id": "7d659203-3b9b-4d2b-aa8a-5a9fc568a58c",
   "metadata": {},
   "outputs": [],
   "source": [
    "def hit_rate(relevance_total):\n",
    "    cnt = 0\n",
    "\n",
    "    for line in relevance_total:\n",
    "        if True in line:\n",
    "            cnt = cnt + 1\n",
    "\n",
    "    return cnt / len(relevance_total)"
   ]
  },
  {
   "cell_type": "markdown",
   "id": "1eceb596-e8ae-4e55-bcc9-a8a29ec59cd6",
   "metadata": {},
   "source": [
    "## 4.2 Calculate hit-rate for Simple Vector Search"
   ]
  },
  {
   "cell_type": "code",
   "execution_count": 114,
   "id": "30c05c67-906b-40de-a582-a0548afc9689",
   "metadata": {},
   "outputs": [],
   "source": [
    "relevance_total = []\n",
    "\n",
    "for query in ground_truth:\n",
    "    doc_id = query['document']\n",
    "    results = search_engine.search(v_query = embedding_model.encode(query['question']), num_results=5)\n",
    "    relevance = [d['id'] == doc_id for d in results]\n",
    "    relevance_total.append(relevance)"
   ]
  },
  {
   "cell_type": "code",
   "execution_count": 115,
   "id": "e896d30a-65f5-4f47-9c0c-abe35127cbf3",
   "metadata": {},
   "outputs": [
    {
     "data": {
      "text/plain": [
       "0.9398907103825137"
      ]
     },
     "execution_count": 115,
     "metadata": {},
     "output_type": "execute_result"
    }
   ],
   "source": [
    "hit_rate(relevance_total)"
   ]
  },
  {
   "cell_type": "markdown",
   "id": "68307779-d4a8-4d0e-b19b-8ce03cb29aae",
   "metadata": {},
   "source": [
    "## 4.3 Calculate hit-rate for Elastic Vector Search"
   ]
  },
  {
   "cell_type": "code",
   "execution_count": 116,
   "id": "081e334f-4e74-4744-8939-7426f411b7ca",
   "metadata": {},
   "outputs": [],
   "source": [
    "relevance_total = []\n",
    "\n",
    "for query in ground_truth:\n",
    "    doc_id = query['document']\n",
    "    results = elastic_search_knn(\"question_text_vector\", embedding_model.encode(query['question']), \"machine-learning-zoomcamp\")\n",
    "    relevance = [d['id'] == doc_id for d in results]\n",
    "    relevance_total.append(relevance)"
   ]
  },
  {
   "cell_type": "code",
   "execution_count": 117,
   "id": "9f38e3d9-b701-4f08-a574-11029b7df43d",
   "metadata": {},
   "outputs": [
    {
     "data": {
      "text/plain": [
       "0.9103825136612022"
      ]
     },
     "execution_count": 117,
     "metadata": {},
     "output_type": "execute_result"
    }
   ],
   "source": [
    "hit_rate(relevance_total)"
   ]
  },
  {
   "cell_type": "code",
   "execution_count": null,
   "id": "9d608b57-3db4-4819-b101-6bdd72c2cdb3",
   "metadata": {},
   "outputs": [],
   "source": []
  }
 ],
 "metadata": {
  "kernelspec": {
   "display_name": "Python 3 (ipykernel)",
   "language": "python",
   "name": "python3"
  },
  "language_info": {
   "codemirror_mode": {
    "name": "ipython",
    "version": 3
   },
   "file_extension": ".py",
   "mimetype": "text/x-python",
   "name": "python",
   "nbconvert_exporter": "python",
   "pygments_lexer": "ipython3",
   "version": "3.12.4"
  }
 },
 "nbformat": 4,
 "nbformat_minor": 5
}
