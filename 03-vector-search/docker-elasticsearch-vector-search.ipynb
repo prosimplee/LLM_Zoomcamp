{
 "cells": [
  {
   "cell_type": "code",
   "execution_count": 1,
   "id": "7377b720-efe0-4365-9634-0fd635f9db47",
   "metadata": {},
   "outputs": [],
   "source": [
    "from openai import OpenAI\n",
    "import json"
   ]
  },
  {
   "cell_type": "code",
   "execution_count": 2,
   "id": "05c69beb-d9b6-48af-a439-42363baf264a",
   "metadata": {},
   "outputs": [],
   "source": [
    "import requests \n",
    "\n",
    "docs_url = 'https://github.com/DataTalksClub/llm-zoomcamp/blob/main/01-intro/documents.json?raw=1'\n",
    "docs_response = requests.get(docs_url)\n",
    "documents_raw = docs_response.json()\n",
    "\n",
    "documents = []\n",
    "\n",
    "for course in documents_raw:\n",
    "    course_name = course['course']\n",
    "\n",
    "    for doc in course['documents']:\n",
    "        doc['course'] = course_name\n",
    "        documents.append(doc)"
   ]
  },
  {
   "cell_type": "code",
   "execution_count": 10,
   "id": "b98c2295-e9d0-426d-b3b3-d8612d92c09b",
   "metadata": {},
   "outputs": [
    {
     "data": {
      "text/plain": [
       "\"The purpose of this document is to capture frequently asked technical questions\\nThe exact day and hour of the course will be 15th Jan 2024 at 17h00. The course will start with the first  “Office Hours'' live.1\\nSubscribe to course public Google Calendar (it works from Desktop only).\\nRegister before the course starts using this link.\\nJoin the course Telegram channel with announcements.\\nDon’t forget to register in DataTalks.Club's Slack and join the channel.\""
      ]
     },
     "execution_count": 10,
     "metadata": {},
     "output_type": "execute_result"
    }
   ],
   "source": [
    "documents[0]['text']"
   ]
  },
  {
   "cell_type": "code",
   "execution_count": 11,
   "id": "4b029cef-4dfd-4fc6-aba7-bc651f4c74fd",
   "metadata": {},
   "outputs": [],
   "source": [
    "from sentence_transformers import SentenceTransformer\n",
    "\n",
    "model = SentenceTransformer('all-mpnet-base-v2')"
   ]
  },
  {
   "cell_type": "code",
   "execution_count": 12,
   "id": "7bf8ac22-a0e6-463e-a585-7729cbc56adc",
   "metadata": {},
   "outputs": [
    {
     "data": {
      "text/plain": [
       "768"
      ]
     },
     "execution_count": 12,
     "metadata": {},
     "output_type": "execute_result"
    }
   ],
   "source": [
    "len(model.encode('My name is Alex.'))"
   ]
  },
  {
   "cell_type": "code",
   "execution_count": 14,
   "id": "c0c99d27-e560-4543-9942-00124c668486",
   "metadata": {},
   "outputs": [
    {
     "data": {
      "text/plain": [
       "'data-engineering-zoomcamp'"
      ]
     },
     "execution_count": 14,
     "metadata": {},
     "output_type": "execute_result"
    }
   ],
   "source": [
    "documents[1]['course']"
   ]
  },
  {
   "cell_type": "code",
   "execution_count": 15,
   "id": "664d061d-dbdb-4aed-a0bc-7e9e6d8486d2",
   "metadata": {},
   "outputs": [],
   "source": [
    "operations = []\n",
    "\n",
    "for doc in documents:\n",
    "    doc['text_vector'] = model.encode(doc['text']).tolist()\n",
    "    operations.append(doc)"
   ]
  },
  {
   "cell_type": "code",
   "execution_count": 16,
   "id": "dc0e2909-94df-4e71-9725-0c16dd075a59",
   "metadata": {},
   "outputs": [
    {
     "data": {
      "text/plain": [
       "'General course-related questions'"
      ]
     },
     "execution_count": 16,
     "metadata": {},
     "output_type": "execute_result"
    }
   ],
   "source": [
    "operations[1]['section']"
   ]
  },
  {
   "cell_type": "code",
   "execution_count": 17,
   "id": "e6d98688-cc4a-4dfe-8db3-5be2e4e68b3b",
   "metadata": {},
   "outputs": [],
   "source": [
    "from elasticsearch import Elasticsearch"
   ]
  },
  {
   "cell_type": "code",
   "execution_count": 18,
   "id": "b5c0b17e-161c-4da3-85dd-a7808070893c",
   "metadata": {},
   "outputs": [],
   "source": [
    "es_client = Elasticsearch('http://localhost:9200')"
   ]
  },
  {
   "cell_type": "code",
   "execution_count": 19,
   "id": "01edf994-b2fa-4353-bb63-d5718374e42c",
   "metadata": {},
   "outputs": [
    {
     "data": {
      "text/plain": [
       "ObjectApiResponse({'name': 'ea96337978c2', 'cluster_name': 'docker-cluster', 'cluster_uuid': 'kZU4X_O1QZSR-Qz_ii11kQ', 'version': {'number': '8.4.3', 'build_flavor': 'default', 'build_type': 'docker', 'build_hash': '42f05b9372a9a4a470db3b52817899b99a76ee73', 'build_date': '2022-10-04T07:17:24.662462378Z', 'build_snapshot': False, 'lucene_version': '9.3.0', 'minimum_wire_compatibility_version': '7.17.0', 'minimum_index_compatibility_version': '7.0.0'}, 'tagline': 'You Know, for Search'})"
      ]
     },
     "execution_count": 19,
     "metadata": {},
     "output_type": "execute_result"
    }
   ],
   "source": [
    "es_client.info()"
   ]
  },
  {
   "cell_type": "code",
   "execution_count": 20,
   "id": "53fc72a5-4072-40e3-b80e-ba96611895e5",
   "metadata": {},
   "outputs": [],
   "source": [
    "index_settings = {\n",
    "    \"settings\": {\n",
    "        \"number_of_shards\": 1,\n",
    "        \"number_of_replicas\": 0\n",
    "    },\n",
    "    \"mappings\": {\n",
    "        \"properties\": {\n",
    "            \"text\": {\"type\": \"text\"},\n",
    "            \"section\": {\"type\": \"text\"},\n",
    "            \"question\": {\"type\": \"text\"},\n",
    "            \"course\": {\"type\": \"keyword\"},\n",
    "            \"text_vector\": {\"type\" : \"dense_vector\", \"dims\":768, \"index\" : True, \"similarity\" : \"cosine\"}\n",
    "        }\n",
    "    }\n",
    "}"
   ]
  },
  {
   "cell_type": "code",
   "execution_count": 21,
   "id": "e10f3444-770c-422a-a96a-35a8cfc7a87d",
   "metadata": {},
   "outputs": [],
   "source": [
    "index_name = 'course-questions'"
   ]
  },
  {
   "cell_type": "code",
   "execution_count": 22,
   "id": "61b2f3a7-395b-4ed4-9192-19a3585e87b7",
   "metadata": {},
   "outputs": [
    {
     "data": {
      "text/plain": [
       "ObjectApiResponse({'acknowledged': True, 'shards_acknowledged': True, 'index': 'course-questions'})"
      ]
     },
     "execution_count": 22,
     "metadata": {},
     "output_type": "execute_result"
    }
   ],
   "source": [
    "es_client.indices.delete(index=index_name, ignore_unavailable=True)\n",
    "es_client.indices.create(index=index_name, body = index_settings)"
   ]
  },
  {
   "cell_type": "code",
   "execution_count": 23,
   "id": "f7bd35ec-8290-469b-9f53-fa94e0520454",
   "metadata": {},
   "outputs": [],
   "source": [
    "for doc in operations:\n",
    "    try:\n",
    "        es_client.index(index=index_name, document=doc)\n",
    "    except Exception as e:\n",
    "        print(e)"
   ]
  },
  {
   "cell_type": "code",
   "execution_count": 24,
   "id": "54685555-cab5-40c0-9a52-4e710ece420f",
   "metadata": {},
   "outputs": [],
   "source": [
    "q = 'windows or mac?'\n",
    "vector_search = model.encode(q)"
   ]
  },
  {
   "cell_type": "code",
   "execution_count": 25,
   "id": "1f2c7983-b8f5-4287-a14c-42b94ee48a37",
   "metadata": {},
   "outputs": [],
   "source": [
    "query = {\n",
    "    \"field\" : \"text_vector\",\n",
    "    \"query_vector\": vector_search,\n",
    "    \"k\" : 3,\n",
    "    \"num_candidates\" : 10000\n",
    "}"
   ]
  },
  {
   "cell_type": "code",
   "execution_count": 26,
   "id": "a4287d06-eb66-48c6-9169-afe12b121ff2",
   "metadata": {},
   "outputs": [],
   "source": [
    "res = es_client.search(index = index_name, knn = query, source = [\"text\", \"section\",\"question\", \"course\"])"
   ]
  },
  {
   "cell_type": "code",
   "execution_count": 27,
   "id": "3fc4417b-5116-4cbe-928e-4139c759f0f0",
   "metadata": {},
   "outputs": [
    {
     "data": {
      "text/plain": [
       "[{'_index': 'course-questions',\n",
       "  '_id': 'WSDNUJEBvSoPKJXMAB5c',\n",
       "  '_score': 0.71479183,\n",
       "  '_source': {'question': 'Environment - Is the course [Windows/mac/Linux/...] friendly?',\n",
       "   'course': 'data-engineering-zoomcamp',\n",
       "   'section': 'General course-related questions',\n",
       "   'text': 'Yes! Linux is ideal but technically it should not matter. Students last year used all 3 OSes successfully'}},\n",
       " {'_index': 'course-questions',\n",
       "  '_id': 'LSDNUJEBvSoPKJXMCSA1',\n",
       "  '_score': 0.60555583,\n",
       "  '_source': {'question': \"The answer I get for one of the homework questions doesn't match any of the options. What should I do?\",\n",
       "   'course': 'machine-learning-zoomcamp',\n",
       "   'section': '2. Machine Learning for Regression',\n",
       "   'text': 'That’s normal. We all have different environments: our computers have different versions of OS and different versions of libraries — even different versions of Python.\\nIf it’s the case, just select the option that’s closest to your answer'}},\n",
       " {'_index': 'course-questions',\n",
       "  '_id': 'hiDNUJEBvSoPKJXMCiDu',\n",
       "  '_score': 0.6028962,\n",
       "  '_source': {'question': 'How to install WSL on Windows 10 and 11 ?',\n",
       "   'course': 'machine-learning-zoomcamp',\n",
       "   'section': '5. Deploying Machine Learning Models',\n",
       "   'text': 'It is quite simple, and you can follow these instructions here:\\nhttps://www.youtube.com/watch?v=qYlgUDKKK5A&ab_channel=NeuralNine\\nMake sure that you have “Virtual Machine Platform” feature activated in your Windows “Features”. To do that, search “features” in the research bar and see if the checkbox is selected. You also need to make sure that your system (in the bios) is able to virtualize. This is usually the case.\\nIn the Microsoft Store: look for ‘Ubuntu’ or ‘Debian’ (or any linux distribution you want) and install it\\nOnce it is downloaded, open the app and choose a username and a password (secured one). When you type your password, nothing will show in the window, which is normal: the writing is invisible.\\nYou are now inside of your linux system. You can test some commands such as “pwd”. You are not in your Windows system.\\nTo go to your windows system: you need to go back two times with cd ../.. And then go to the “mnt” directory with cd mnt. If you list here your files, you will see your disks. You can move to the desired folder, for example here I moved to the ML_Zoomcamp folder:\\nPython should be already installed but you can check it by running sudo apt install python3 command.\\nYou can make your actual folder your default folder when you open your Ubuntu terminal with this command : echo \"cd ../../mnt/your/folder/path\" >> ~/.bashrc\\nYou can disable bell sounds (when you type something that does not exist for example) by modifying the inputrc file with this command: sudo vim /etc/inputrc\\nYou have to uncomment the set bell-style none line -> to do that, press the “i” keyboard letter (for insert) and go with your keyboard to this line. Delete the # and then press the Escape keyboard touch and finally press “:wq” to write (it saves your modifications) then quit.\\nYou can check that your modifications are taken into account by opening a new terminal (you can pin it to your task bar so you do not have to go to the Microsoft app each time).\\nYou will need to install pip by running this command sudo apt install python3-pip\\nNB: I had this error message when trying to install pipenv (https://github.com/microsoft/WSL/issues/5663):\\n/sbin/ldconfig.real: Can\\'t link /usr/lib/wsl/lib/libnvoptix_loader.so.1 to libnvoptix.so.1\\n/sbin/ldconfig.real: /usr/lib/wsl/lib/libcuda.so.1 is not a symbolic link\\nSo I had to create the following symbolic link:\\nsudo ln -s /usr/lib/wsl/lib/libcuda.so.1 /usr/lib64/libcuda.so\\n(Mélanie Fouesnard)'}}]"
      ]
     },
     "execution_count": 27,
     "metadata": {},
     "output_type": "execute_result"
    }
   ],
   "source": [
    "res['hits']['hits']"
   ]
  },
  {
   "cell_type": "code",
   "execution_count": 28,
   "id": "f5d4f4dc-8143-4e13-b476-a167d1cae1a3",
   "metadata": {},
   "outputs": [],
   "source": [
    "knn_query = {\n",
    "    \"field\" : \"text_vector\",\n",
    "    \"query_vector\" : vector_search,\n",
    "    \"k\" : 5,\n",
    "    \"num_candidates\" : 10000\n",
    "}"
   ]
  },
  {
   "cell_type": "code",
   "execution_count": 29,
   "id": "210c2b01-650a-4533-9320-b34b2d6fb1db",
   "metadata": {},
   "outputs": [],
   "source": [
    "advanced_response = es_client.search(\n",
    "    index=index_name,\n",
    "    query={\n",
    "        \"match\": {\"course\": \"data-engineering-zoomcamp\"},\n",
    "    },\n",
    "    knn=knn_query,\n",
    "    size=5,\n",
    "    explain=True\n",
    ")"
   ]
  },
  {
   "cell_type": "code",
   "execution_count": 30,
   "id": "040dfed4-bf41-438c-aed2-d964b70c5cd8",
   "metadata": {},
   "outputs": [
    {
     "data": {
      "text/plain": [
       "1.4937057"
      ]
     },
     "execution_count": 30,
     "metadata": {},
     "output_type": "execute_result"
    }
   ],
   "source": [
    "advanced_response['hits']['hits'][0]['_score']"
   ]
  },
  {
   "cell_type": "code",
   "execution_count": null,
   "id": "61911746-783d-4a82-b751-466dbd550a2f",
   "metadata": {},
   "outputs": [],
   "source": []
  }
 ],
 "metadata": {
  "kernelspec": {
   "display_name": "Python 3 (ipykernel)",
   "language": "python",
   "name": "python3"
  },
  "language_info": {
   "codemirror_mode": {
    "name": "ipython",
    "version": 3
   },
   "file_extension": ".py",
   "mimetype": "text/x-python",
   "name": "python",
   "nbconvert_exporter": "python",
   "pygments_lexer": "ipython3",
   "version": "3.12.4"
  }
 },
 "nbformat": 4,
 "nbformat_minor": 5
}
