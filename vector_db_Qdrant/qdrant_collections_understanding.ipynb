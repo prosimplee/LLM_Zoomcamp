{
 "cells": [
  {
   "cell_type": "code",
   "execution_count": 9,
   "id": "73d94821-7930-462d-925c-af57da94ef3b",
   "metadata": {},
   "outputs": [],
   "source": [
    "from qdrant_client import QdrantClient\n",
    "import numpy as np\n",
    "from qdrant_client.http import models\n",
    "from faker import Faker"
   ]
  },
  {
   "cell_type": "code",
   "execution_count": 11,
   "id": "0f2b9d87-e878-4ff8-86dd-d0a5a410cdfb",
   "metadata": {},
   "outputs": [
    {
     "data": {
      "text/plain": [
       "<qdrant_client.qdrant_client.QdrantClient at 0x1160d2100>"
      ]
     },
     "execution_count": 11,
     "metadata": {},
     "output_type": "execute_result"
    }
   ],
   "source": [
    "# Create a Qdrant client\n",
    "client = QdrantClient(host = 'localhost', port = 6333)\n",
    "client"
   ]
  },
  {
   "cell_type": "code",
   "execution_count": 73,
   "id": "74b0760b-78bd-423a-9885-11bb78f250ce",
   "metadata": {},
   "outputs": [],
   "source": [
    "# Create a collection (table) to store points\n",
    "# Each point has: ID, Vector, and Payload\n",
    "# ID - a unique identifier for each vector (e.g., image, song, video, document, etc.)\n",
    "# Vector - a high-dimensional representation of the data item\n",
    "# Payload - metadata about each vector representation (e.g., artist who created a song, release year, URL to the song, country where the song was created, etc.)\n",
    "\n",
    "# The number of dimensions is analogous to the number of columns.\n",
    "# Distance - specifies how we query the data and retrieve results (e.g., COSINE similarity)"
   ]
  },
  {
   "cell_type": "code",
   "execution_count": 15,
   "id": "8356d2ae-3cc5-4804-8d02-e85edcd95165",
   "metadata": {},
   "outputs": [
    {
     "data": {
      "text/plain": [
       "True"
      ]
     },
     "execution_count": 15,
     "metadata": {},
     "output_type": "execute_result"
    }
   ],
   "source": [
    "my_collection = 'first_collection'\n",
    "client.create_collection(\n",
    "    collection_name = my_collection,\n",
    "    vectors_config=models.VectorParams(size=100, \n",
    "                                       distance=models.Distance.COSINE)\n",
    ")"
   ]
  },
  {
   "cell_type": "code",
   "execution_count": 29,
   "id": "012ba22f-d37e-4a0b-8e51-7069c5558da1",
   "metadata": {},
   "outputs": [],
   "source": [
    "data = np.random.uniform(low=-1.0, high=1.0, size=(1_000, 100))\n",
    "index = list(range(1_000))"
   ]
  },
  {
   "cell_type": "code",
   "execution_count": 30,
   "id": "2c6fb9d9-e516-4e30-b0b4-e61faf99e792",
   "metadata": {},
   "outputs": [
    {
     "data": {
      "text/plain": [
       "array([-0.20120366, -0.5879291 ,  0.54028079, -0.01345534,  0.17859067,\n",
       "       -0.41382853,  0.39961553, -0.19702934, -0.98607964,  0.19368104,\n",
       "        0.1129613 , -0.58364989,  0.99267372,  0.80405406, -0.4536265 ,\n",
       "        0.68555347,  0.26387621,  0.80665498, -0.54486821,  0.54729952,\n",
       "       -0.4508836 ,  0.22386532, -0.63017481, -0.46890971, -0.71889203,\n",
       "       -0.38912731, -0.78210185, -0.36294362,  0.78225628,  0.72763   ,\n",
       "       -0.4655845 ,  0.61647857,  0.44712869, -0.33949648, -0.9435025 ,\n",
       "       -0.95057288, -0.3482762 ,  0.68498247,  0.21014404,  0.92684916,\n",
       "        0.70004637, -0.03754544,  0.51445553,  0.53181772,  0.20617193,\n",
       "        0.92365549, -0.82662193, -0.64739838, -0.39046742, -0.49244077,\n",
       "        0.63333782, -0.955647  , -0.32975348, -0.7395958 , -0.99167022,\n",
       "       -0.12387514,  0.21657436, -0.1980394 ,  0.79113388,  0.26161092,\n",
       "        0.2618423 ,  0.78159403, -0.4308446 , -0.77893568,  0.21844771,\n",
       "       -0.61707173, -0.52782446, -0.42397291, -0.43538822,  0.43596259,\n",
       "       -0.48916062,  0.56206597, -0.03870884, -0.47532041,  0.86188901,\n",
       "       -0.72665493,  0.47054902, -0.70228234,  0.17662057, -0.38618338,\n",
       "        0.61098451, -0.62126289, -0.91884765,  0.87118736,  0.56955553,\n",
       "       -0.0755862 , -0.87259722,  0.85870724, -0.58931419, -0.58151555,\n",
       "        0.8679251 , -0.24125226,  0.26829247, -0.45580455,  0.52580634,\n",
       "       -0.5067789 ,  0.70854058, -0.23426211, -0.32714865, -0.33579802])"
      ]
     },
     "execution_count": 30,
     "metadata": {},
     "output_type": "execute_result"
    }
   ],
   "source": [
    "data[:2][0]"
   ]
  },
  {
   "cell_type": "code",
   "execution_count": 32,
   "id": "03a9fc13-0992-4a28-a994-3ef374ee6d57",
   "metadata": {},
   "outputs": [
    {
     "data": {
      "text/plain": [
       "UpdateResult(operation_id=0, status=<UpdateStatus.COMPLETED: 'completed'>)"
      ]
     },
     "execution_count": 32,
     "metadata": {},
     "output_type": "execute_result"
    }
   ],
   "source": [
    "client.upsert(\n",
    "    collection_name = my_collection,\n",
    "    points = models.Batch(ids = index,\n",
    "                          vectors = data.tolist()\n",
    "    )\n",
    ")"
   ]
  },
  {
   "cell_type": "code",
   "execution_count": 37,
   "id": "00275401-9e71-4cc1-bc44-38f442cc2ee5",
   "metadata": {},
   "outputs": [
    {
     "data": {
      "text/plain": [
       "[Record(id=10, payload={}, vector=[-0.08814841, 0.04631223, 0.0060495012, 0.049282305, -0.012081146, 0.14882924, -0.035293955, -0.15039177, 0.09349682, 0.097557954, 0.041811753, -0.15404606, -0.0037731994, -0.024330718, 0.0071016783, -0.12085816, 0.08140178, 0.09335002, 0.03623206, 0.06765507, 0.06077222, -0.07090134, 0.10480334, 0.13318297, 0.045144938, 0.01685478, -0.019746289, 0.113241166, 0.080382176, 0.17679052, 0.07063528, 0.14437664, -0.06644633, -0.12627079, 0.1221459, -0.09933028, -0.14617415, 0.1623912, 0.10720135, -0.17049706, 0.0637454, -0.09204277, -0.062394116, 0.13212869, 0.1412169, -0.13699423, -0.047225635, -0.07971856, 0.131656, -0.013697356, 0.0437472, -0.12362942, 0.13588275, 0.05747706, 0.02507232, -0.021392215, 0.025937442, -0.075174965, -0.17065023, 0.085493475, -0.15117696, -0.1440295, -0.04227544, -0.0091647105, 0.118854605, 0.04856591, -0.12880267, -0.01373315, -0.16360721, -0.13734166, -0.025777753, 0.03486105, -0.0613785, 0.06568777, 0.15440044, -0.098496646, -0.110258624, -0.11214737, -0.055546056, -0.09440255, -0.13864186, 0.12205359, -0.039324187, -0.14542101, 0.0117758345, 0.07672564, 0.13494991, 0.026447454, 0.14463618, 0.032749515, 0.058770027, -0.15712614, 0.124181055, 0.049142465, -0.12668851, 0.011943581, 0.031452797, 0.13252746, 0.17583793, -0.09882097], shard_key=None, order_value=None),\n",
       " Record(id=14, payload={}, vector=[-0.12551782, -0.023841463, -0.015449813, 0.04731881, -0.08384557, -0.08413956, -0.1314771, -0.08388106, 0.09946521, 0.1454416, -0.112845995, 0.035524167, -0.1625283, 0.07966836, -0.13826364, 0.0019681617, -0.021738071, -0.001419216, -0.027463252, 0.14346689, 0.114184566, 0.09884941, 0.04289156, -0.14058122, -0.15550576, 0.09295523, 0.046120457, 0.09116714, -0.028184311, 0.086605154, -0.14157195, -0.07853946, 0.09509757, 0.016833931, 0.016373096, -0.13036197, -0.04211328, 0.06859605, -0.035444427, -0.016350383, 0.1694041, 0.074671544, 0.0070072412, 0.16428196, -0.15044937, -0.16527203, 0.087207, 0.016759133, 0.1525901, 0.025550298, 0.1200767, -0.16899018, -0.107336685, -0.018600756, 0.11838605, -0.15863211, 0.033511575, -0.072686404, 0.167081, 0.12492074, 0.11192193, -0.0014161192, 0.064192735, 0.06261163, 0.011446121, -0.039427176, -0.07821567, -0.070263006, -0.16261686, -0.15824279, 0.04976382, 0.11568708, -0.035327516, 0.045654077, 0.14040083, 0.15932238, -0.17058273, -0.05545317, 0.08091925, 0.12374314, 0.16321445, 0.08090998, 0.06484866, -0.10212708, -0.010876499, 0.045672733, -0.13131826, -0.018796487, -0.033965986, -0.11371999, 0.05233933, 0.082584545, 0.02722979, -0.13610439, 0.0921131, 0.031638898, -0.1391992, 0.043565027, 0.095229805, 0.16353954], shard_key=None, order_value=None)]"
      ]
     },
     "execution_count": 37,
     "metadata": {},
     "output_type": "execute_result"
    }
   ],
   "source": [
    "client.retrieve(\n",
    "    collection_name = my_collection,\n",
    "    ids = [10,14,5000],\n",
    "    with_vectors=True)"
   ]
  },
  {
   "cell_type": "code",
   "execution_count": 39,
   "id": "aa69d154-fdf3-49ba-80ad-6e6dc8e2690f",
   "metadata": {},
   "outputs": [
    {
     "data": {
      "text/plain": [
       "('Kara Wells', '411 Katie Isle Suite 578\\nSouth Kellyborough, CA 12041')"
      ]
     },
     "execution_count": 39,
     "metadata": {},
     "output_type": "execute_result"
    }
   ],
   "source": [
    "fake_something = Faker()\n",
    "fake_something.name(), fake_something.address()"
   ]
  },
  {
   "cell_type": "code",
   "execution_count": 41,
   "id": "502feb74-3bbd-4c6d-9056-0c0ef0d0f096",
   "metadata": {},
   "outputs": [
    {
     "data": {
      "text/plain": [
       "{'artist': 'Francisco Miller',\n",
       " 'song': 'stuffgoalpersonal',\n",
       " 'url': 'http://www.holmes-robertson.org/',\n",
       " 'year': '2014',\n",
       " 'country': 'Samoa'}"
      ]
     },
     "execution_count": 41,
     "metadata": {},
     "output_type": "execute_result"
    }
   ],
   "source": [
    "payload = []\n",
    "for i in range(1000):\n",
    "    payload.append({\n",
    "                    'artist'  : fake_something.name(),\n",
    "                    'song'    : ''.join(fake_something.words()),\n",
    "                    'url'     :  fake_something.url(),\n",
    "                    'year'    : fake_something.year(),\n",
    "                    'country' : fake_something.country()\n",
    "    })\n",
    "\n",
    "payload[0]"
   ]
  },
  {
   "cell_type": "code",
   "execution_count": 43,
   "id": "bfdd6af1-99e4-4619-8adf-f1d943b49c4a",
   "metadata": {},
   "outputs": [
    {
     "data": {
      "text/plain": [
       "UpdateResult(operation_id=2, status=<UpdateStatus.COMPLETED: 'completed'>)"
      ]
     },
     "execution_count": 43,
     "metadata": {},
     "output_type": "execute_result"
    }
   ],
   "source": [
    "client.upsert(\n",
    "    collection_name=my_collection,\n",
    "    points=models.Batch(\n",
    "        ids = index,\n",
    "        vectors=data,\n",
    "        payloads=payload\n",
    "    )\n",
    ")"
   ]
  },
  {
   "cell_type": "markdown",
   "id": "49d5ddd1-66e7-494f-ab7f-f600da6e5b50",
   "metadata": {},
   "source": [
    "# Semantic Search"
   ]
  },
  {
   "cell_type": "code",
   "execution_count": 50,
   "id": "50442f14-d286-4e5b-a2a1-95df7e3ff564",
   "metadata": {},
   "outputs": [
    {
     "data": {
      "text/plain": [
       "[0.5030307615107082,\n",
       " 0.23788436315737677,\n",
       " -0.0016083995498246215,\n",
       " -0.005490085510043195,\n",
       " -0.07589019419711045]"
      ]
     },
     "execution_count": 50,
     "metadata": {},
     "output_type": "execute_result"
    }
   ],
   "source": [
    "living_la_vida_loca = np.random.uniform(low=-0.1, high=1.0, size=(100)).tolist()\n",
    "living_la_vida_loca[:5]"
   ]
  },
  {
   "cell_type": "code",
   "execution_count": 52,
   "id": "1b53026d-5b3d-4d8d-88eb-0b8428416a6d",
   "metadata": {},
   "outputs": [
    {
     "data": {
      "text/plain": [
       "[ScoredPoint(id=59, version=2, score=0.35710692, payload={'artist': 'Sierra Osborne', 'song': 'starunderstandfast', 'url': 'https://mullins.com/', 'year': '1995', 'country': 'Netherlands'}, vector=None, shard_key=None, order_value=None),\n",
       " ScoredPoint(id=241, version=2, score=0.32570764, payload={'artist': 'David Smith', 'song': 'downpatternexample', 'url': 'https://www.brown-taylor.com/', 'year': '2008', 'country': 'Bahamas'}, vector=None, shard_key=None, order_value=None),\n",
       " ScoredPoint(id=935, version=2, score=0.29163417, payload={'artist': 'Maurice Mcclain', 'song': 'generationeducationshould', 'url': 'https://manning.com/', 'year': '1979', 'country': 'Australia'}, vector=None, shard_key=None, order_value=None),\n",
       " ScoredPoint(id=842, version=2, score=0.2806603, payload={'artist': 'Mike Smith', 'song': 'eatmeetstop', 'url': 'http://delgado.com/', 'year': '2018', 'country': 'Kenya'}, vector=None, shard_key=None, order_value=None),\n",
       " ScoredPoint(id=848, version=2, score=0.27245492, payload={'artist': 'Jeff Campbell', 'song': 'windowsocietylikely', 'url': 'https://sanders.com/', 'year': '1973', 'country': 'Lebanon'}, vector=None, shard_key=None, order_value=None)]"
      ]
     },
     "execution_count": 52,
     "metadata": {},
     "output_type": "execute_result"
    }
   ],
   "source": [
    "# Retrive the result \n",
    "client.search(\n",
    "    collection_name=my_collection,\n",
    "    query_vector=living_la_vida_loca,\n",
    "    limit = 5\n",
    ")"
   ]
  },
  {
   "cell_type": "code",
   "execution_count": 54,
   "id": "f02b1283-e058-4358-b38f-70106f052649",
   "metadata": {},
   "outputs": [],
   "source": [
    "aussie_songs = models.Filter(\n",
    "    must = [\n",
    "        models.FieldCondition(\n",
    "            key='country', match = models.MatchValue(value = 'Australia')\n",
    "        )\n",
    "    ]\n",
    ")    "
   ]
  },
  {
   "cell_type": "code",
   "execution_count": 59,
   "id": "da235229-d0a0-4c03-9aa9-828009bbd378",
   "metadata": {},
   "outputs": [
    {
     "data": {
      "text/plain": [
       "[ScoredPoint(id=935, version=2, score=0.29163417, payload={'artist': 'Maurice Mcclain', 'song': 'generationeducationshould', 'url': 'https://manning.com/', 'year': '1979', 'country': 'Australia'}, vector=None, shard_key=None, order_value=None),\n",
       " ScoredPoint(id=919, version=2, score=0.2646881, payload={'artist': 'Timothy Cobb', 'song': 'producttheirher', 'url': 'http://pearson.com/', 'year': '2005', 'country': 'Australia'}, vector=None, shard_key=None, order_value=None),\n",
       " ScoredPoint(id=400, version=2, score=-0.1791785, payload={'artist': 'Christopher Jones', 'song': 'orderdiscussionhimself', 'url': 'http://miller-williams.org/', 'year': '1975', 'country': 'Australia'}, vector=None, shard_key=None, order_value=None)]"
      ]
     },
     "execution_count": 59,
     "metadata": {},
     "output_type": "execute_result"
    }
   ],
   "source": [
    "# Retrive the result by filter \n",
    "client.search(\n",
    "    collection_name = my_collection,\n",
    "    query_vector = living_la_vida_loca,\n",
    "    query_filter = aussie_songs,\n",
    "    limit = 5\n",
    ")"
   ]
  },
  {
   "cell_type": "markdown",
   "id": "64bb71ac-f727-41eb-b8f0-46f73d2ddb77",
   "metadata": {},
   "source": [
    "# Recommendation API"
   ]
  },
  {
   "cell_type": "code",
   "execution_count": 72,
   "id": "e29252ff-d3a6-46ac-aefa-6bf80c726ae5",
   "metadata": {},
   "outputs": [
    {
     "data": {
      "text/plain": [
       "[ScoredPoint(id=231, version=2, score=0.036168177, payload={'artist': 'Arthur Powell', 'song': 'kindoperationless', 'url': 'https://www.fisher.com/', 'year': '1979', 'country': 'Spain'}, vector=None, shard_key=None, order_value=None),\n",
       " ScoredPoint(id=279, version=2, score=-0.005771706, payload={'artist': 'Bryan Griffin', 'song': 'agreesurewhose', 'url': 'http://www.thomas-green.biz/', 'year': '1993', 'country': 'Spain'}, vector=None, shard_key=None, order_value=None),\n",
       " ScoredPoint(id=956, version=2, score=-0.15126365, payload={'artist': 'Kelly Edwards', 'song': 'moveaudiencehand', 'url': 'http://fletcher.com/', 'year': '2015', 'country': 'Spain'}, vector=None, shard_key=None, order_value=None)]"
      ]
     },
     "execution_count": 72,
     "metadata": {},
     "output_type": "execute_result"
    }
   ],
   "source": [
    "client.recommend(\n",
    "    collection_name = my_collection,\n",
    "    positive=[17, 123],\n",
    "    negative=[100, 444],\n",
    "    query_filter=models.Filter(\n",
    "                must = [\n",
    "                    models.FieldCondition(key='country', match = models.MatchValue(value = 'Spain'))\n",
    "                    ]\n",
    "    ),    \n",
    "    limit = 5\n",
    ")"
   ]
  },
  {
   "cell_type": "code",
   "execution_count": null,
   "id": "06e5964a-f4b9-4a76-83a6-89246e543d9c",
   "metadata": {},
   "outputs": [],
   "source": []
  }
 ],
 "metadata": {
  "kernelspec": {
   "display_name": "Python 3 (ipykernel)",
   "language": "python",
   "name": "python3"
  },
  "language_info": {
   "codemirror_mode": {
    "name": "ipython",
    "version": 3
   },
   "file_extension": ".py",
   "mimetype": "text/x-python",
   "name": "python",
   "nbconvert_exporter": "python",
   "pygments_lexer": "ipython3",
   "version": "3.9.20"
  }
 },
 "nbformat": 4,
 "nbformat_minor": 5
}
