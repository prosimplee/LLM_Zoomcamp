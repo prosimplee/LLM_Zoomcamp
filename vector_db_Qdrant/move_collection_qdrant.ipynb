{
 "cells": [
  {
   "cell_type": "code",
   "execution_count": 345,
   "id": "da878c84-0e75-4830-a0c8-54efd32dbcdd",
   "metadata": {},
   "outputs": [],
   "source": [
    "import torch\n",
    "from transformers import CLIPProcessor, CLIPModel\n",
    "from faker import Faker\n",
    "import numpy as np\n",
    "from tqdm import tqdm\n",
    "import os\n",
    "import torch"
   ]
  },
  {
   "cell_type": "code",
   "execution_count": 346,
   "id": "16524920-180a-44a3-a4c4-ee9071763725",
   "metadata": {},
   "outputs": [],
   "source": [
    "qdrant_api_token_one = os.getenv(\"QDRANT_TEST_ONE\")"
   ]
  },
  {
   "cell_type": "code",
   "execution_count": 348,
   "id": "354067cd-208d-49c8-9eaf-27fe03c400ae",
   "metadata": {},
   "outputs": [],
   "source": [
    "qdrant_api_token_two = os.getenv(\"QDRANT_TEST_TWO\")"
   ]
  },
  {
   "cell_type": "code",
   "execution_count": 378,
   "id": "2a3df252-c4fb-4ab3-8f3a-3c3080c64b58",
   "metadata": {},
   "outputs": [],
   "source": [
    "qdrant_cluster_a = os.getenv(\"qdrant_cluster_a\")"
   ]
  },
  {
   "cell_type": "code",
   "execution_count": 379,
   "id": "3939a405-0d41-4564-92fb-1ab9378fb7e6",
   "metadata": {},
   "outputs": [],
   "source": [
    "qdrant_cluster_b = os.getenv(\"qdrant_cluster_b\")"
   ]
  },
  {
   "cell_type": "code",
   "execution_count": 398,
   "id": "301708cc-8745-4cf3-834c-fa3877f83631",
   "metadata": {},
   "outputs": [],
   "source": [
    "QDRANT_CLUSTER_NODES_cluster_a = os.getenv(\"QDRANT_CLUSTER_NODES\").split(\",\")"
   ]
  },
  {
   "cell_type": "code",
   "execution_count": 381,
   "id": "bd48bb2e-7319-44a8-a69c-18d02ab35a8a",
   "metadata": {},
   "outputs": [],
   "source": [
    "NEW_QDRANT_CLUSTER_NODES_cluster_b = os.getenv(\"NEW_QDRANT_CLUSTER_NODES_cluster_b\").split(\",\")"
   ]
  },
  {
   "cell_type": "markdown",
   "id": "8ce42243-8081-4b39-a6f5-93cbef67d930",
   "metadata": {},
   "source": [
    "# Generate fake data"
   ]
  },
  {
   "cell_type": "code",
   "execution_count": 314,
   "id": "34f11df6-9ae9-45be-ab8a-814e88022063",
   "metadata": {},
   "outputs": [],
   "source": [
    "model = CLIPModel.from_pretrained(\"openai/clip-vit-base-patch16\")\n",
    "processor = CLIPProcessor.from_pretrained(\"openai/clip-vit-base-patch16\")"
   ]
  },
  {
   "cell_type": "code",
   "execution_count": 315,
   "id": "b0ce5250-4dd9-4166-9879-b748588e97bc",
   "metadata": {},
   "outputs": [
    {
     "data": {
      "text/plain": [
       "<torch.autograd.grad_mode.no_grad at 0x3a4e6d8e0>"
      ]
     },
     "execution_count": 315,
     "metadata": {},
     "output_type": "execute_result"
    }
   ],
   "source": [
    "model.eval()\n",
    "torch.no_grad()"
   ]
  },
  {
   "cell_type": "code",
   "execution_count": 22,
   "id": "24dc7944-5770-481f-ad33-7167348cc3cc",
   "metadata": {},
   "outputs": [],
   "source": [
    "fake = Faker()"
   ]
  },
  {
   "cell_type": "code",
   "execution_count": 23,
   "id": "5fe002b6-48c8-4b9a-801c-d8b983df4558",
   "metadata": {},
   "outputs": [],
   "source": [
    "record = {\n",
    "    'brand': fake.company(),\n",
    "    'model': fake.word(),\n",
    "    'color': fake.color_name(),\n",
    "    'storage': f\"{fake.random_int(64, 512)} GB\",\n",
    "    'condition': fake.random_element(['New', 'Used', 'Refurbished']),\n",
    "    'price': round(fake.random_number(digits=3), 2),\n",
    "    'city': fake.city(),\n",
    "    'description': fake.sentence(),\n",
    "    'id': fake.uuid4()\n",
    "    }"
   ]
  },
  {
   "cell_type": "code",
   "execution_count": 28,
   "id": "dc4c2b23-6b07-43c9-9661-b38267aeb2ed",
   "metadata": {},
   "outputs": [],
   "source": [
    "def generate_text(record):\n",
    "    fields = [\n",
    "        f\"brand: {record.get('brand', 'N/A')}\"\n",
    "        f\"Model: {record.get('model', 'N/A')}\",\n",
    "        f\"color: {record.get('color', 'N/A')}\",\n",
    "        f\"storage: {record.get('storage', 'N/A')}\",\n",
    "        f\"condition: {record.get('condition', 'N/A')}\",\n",
    "        f\"price: ${record.get('price', 'N/A')}\",\n",
    "        f\"city: {record.get('city', 'N/A')}\",\n",
    "        f\"description: {record.get('description', '')}\"\n",
    "    ]\n",
    "    return \". \".join(fields)"
   ]
  },
  {
   "cell_type": "code",
   "execution_count": 193,
   "id": "5869fc84-2bfa-4cdf-abc2-c7c638e06d4e",
   "metadata": {},
   "outputs": [
    {
     "data": {
      "text/plain": [
       "'brand: levine, beasley and reesemodel: indeed. color: slateblue. storage: 199 gb. condition: refurbished. price: $752. city: melissafurt. description: method morning mention between oil carry special.'"
      ]
     },
     "execution_count": 193,
     "metadata": {},
     "output_type": "execute_result"
    }
   ],
   "source": [
    "generate_text(record).lower()"
   ]
  },
  {
   "cell_type": "code",
   "execution_count": 30,
   "id": "d2d85cbc-caef-45d5-a65c-2ed145820577",
   "metadata": {},
   "outputs": [],
   "source": [
    "# Function to generate a single embedding\n",
    "def generate_embedding(fields_concat):\n",
    "    inputs = processor(text=fields_concat, images=None, return_tensors=\"pt\", padding=True)\n",
    "    outputs = model.get_text_features(**inputs)\n",
    "    return outputs.detach().numpy().flatten()"
   ]
  },
  {
   "cell_type": "code",
   "execution_count": 32,
   "id": "6687064b-bd1e-403c-bad3-65535ce0c58a",
   "metadata": {},
   "outputs": [],
   "source": [
    "indexed_vectors = []\n",
    "\n",
    "# Number of vectors and points\n",
    "num_vectors = 150_000"
   ]
  },
  {
   "cell_type": "code",
   "execution_count": 33,
   "id": "cac93114-aa7c-400e-9590-9e6585596185",
   "metadata": {},
   "outputs": [
    {
     "name": "stderr",
     "output_type": "stream",
     "text": [
      "Generating indexed vectors: 100%|███████████████████████████████████████████████████████████████████████████████████████████████████████| 150000/150000 [35:04<00:00, 71.27it/s]\n"
     ]
    }
   ],
   "source": [
    "for _ in tqdm(range(num_vectors), desc=\"Generating indexed vectors\"):\n",
    "    # Create a randomized record similar to the provided format using Faker\n",
    "    record = {\n",
    "        'brand': fake.company(),\n",
    "        'model': fake.word(),\n",
    "        'color': fake.color_name(),\n",
    "        'storage': f\"{fake.random_int(64, 512)} GB\",\n",
    "        'condition': fake.random_element(['New', 'Used', 'Refurbished']),\n",
    "        'price': round(fake.random_number(digits=3), 2),\n",
    "        'city': fake.city(),\n",
    "        'description': fake.sentence(),\n",
    "        'id': fake.uuid4()\n",
    "    }\n",
    "    text = generate_text(record)\n",
    "    embedding = generate_embedding(text)\n",
    "    indexed_vectors.append({\"id\": record['id'], \"vector\": embedding, \"record\": record})"
   ]
  },
  {
   "cell_type": "code",
   "execution_count": 237,
   "id": "5b227ca5-6b7f-4426-9848-459732a3ea73",
   "metadata": {},
   "outputs": [
    {
     "data": {
      "text/plain": [
       "{'id': 'fc329261-cf7d-47e4-af56-c2813aa3dd14',\n",
       " 'vector': array([ 2.79945612e-01,  7.82234594e-02, -5.16451597e-02,  9.28873196e-02,\n",
       "        -1.60017028e-01,  1.14933670e-01, -3.60503495e-02,  8.09278488e-02,\n",
       "        -9.73841473e-02,  2.53643692e-01, -3.65928948e-01,  3.04550171e-01,\n",
       "        -8.09966177e-02, -2.31350139e-02,  2.70407528e-01,  1.09564736e-01,\n",
       "         1.46853670e-01,  3.36242646e-01,  1.42204061e-01,  1.38935745e-01,\n",
       "         2.12107569e-01, -2.53344208e-01, -4.53289747e-02, -2.50389338e-01,\n",
       "        -2.25602806e-01, -3.68206143e-01,  1.35281369e-01, -3.84590834e-01,\n",
       "        -1.44583330e-01, -1.29207373e-01,  3.48217487e-01,  3.08986679e-02,\n",
       "        -5.00364602e-02,  1.06579676e-01, -3.53032678e-01,  2.53850311e-01,\n",
       "         3.23879719e-01,  8.79268721e-02,  2.22787172e-01, -4.46205065e-02,\n",
       "        -4.14004251e-02,  2.32874691e-01,  1.42337307e-01,  6.88867867e-02,\n",
       "        -2.10774034e-01,  3.12338769e-03,  2.99859345e-02, -2.26977468e-01,\n",
       "         2.43854702e-01, -4.17777896e-03,  4.65348095e-01,  1.73780143e-01,\n",
       "         2.54035950e-01, -3.18714142e-01, -4.57244962e-02,  2.00373828e-01,\n",
       "        -1.28782123e-01, -1.17708400e-01, -1.66474044e-01, -3.85576844e-01,\n",
       "         1.87103599e-02, -3.28031927e-01,  2.50317603e-01, -1.57776475e-01,\n",
       "        -1.19940035e-01, -4.52272713e-01,  3.95110548e-01, -2.45614633e-01,\n",
       "        -2.55208433e-01, -1.98715001e-01, -2.11802185e-01,  5.24669230e-01,\n",
       "         1.75657526e-01,  9.45719406e-02, -4.98023987e-01, -2.78604686e-01,\n",
       "        -1.56806588e-01, -4.73485403e-02, -1.08824298e-01, -1.63123980e-01,\n",
       "         6.36773184e-03,  3.15075517e-01, -4.02267754e-01,  1.58131629e-01,\n",
       "        -1.36801377e-01,  4.73792255e-02,  8.55470002e-02, -4.80672121e-01,\n",
       "        -4.31746781e-01, -2.23561406e-01, -3.52121219e-02, -1.18394963e-01,\n",
       "         2.21799575e-02,  1.25272363e-01, -3.80064100e-02,  3.37911785e-01,\n",
       "        -7.81023026e-01,  2.51311809e-02, -1.41078189e-01,  7.44449124e-02,\n",
       "         2.19625741e-01,  1.48087829e-01,  3.38428989e-02, -6.25517592e-02,\n",
       "        -1.22140229e-01, -1.06908932e-01,  2.50930756e-01,  3.58294189e-01,\n",
       "        -3.69257748e-01,  4.51988250e-01,  1.28288329e-01,  8.37442949e-02,\n",
       "        -2.20380679e-01, -4.28102821e-01, -1.39944762e-01,  1.44431382e-01,\n",
       "        -3.34273338e-01, -4.77711678e-01,  1.03276581e-01, -3.50231260e-01,\n",
       "        -6.38843551e-02,  2.27294803e-01,  9.30809677e-02, -4.40090954e-01,\n",
       "         2.32072622e-02, -9.78477895e-02, -1.99448481e-01,  3.84891778e-01,\n",
       "         1.30060881e-01, -1.36746168e-01,  1.42514378e-01,  4.88956943e-02,\n",
       "         6.85987473e-01,  3.24341357e-01,  2.64715493e-01, -3.31214294e-02,\n",
       "        -3.55235517e-01, -2.37552464e-01, -6.33450866e-01, -1.17345661e-01,\n",
       "        -3.25125128e-01, -9.47214365e-02, -3.46668884e-02,  1.37506187e-01,\n",
       "         1.89425707e-01, -4.21125740e-01, -1.51560158e-01, -1.50602758e-01,\n",
       "         2.22523361e-02, -6.81961477e-02,  2.08600387e-01, -8.31093192e-02,\n",
       "         1.88201785e-01,  8.13148767e-02, -3.39447975e-01, -2.50125080e-01,\n",
       "        -2.15219438e-01,  2.55790591e-01, -2.55312696e-02, -1.19851947e-01,\n",
       "         2.42953748e-01, -5.36008701e-02, -3.68059576e-01, -1.74633473e-01,\n",
       "        -2.65934527e-01,  3.43482822e-01, -3.58993918e-01,  1.43290937e-01,\n",
       "        -1.47449642e-01, -2.72399783e-01,  2.56253839e-01,  3.01994592e-01,\n",
       "         4.81109023e-02, -2.20006585e-01, -2.37132519e-01, -3.24284494e-01,\n",
       "        -2.83878207e-01, -1.35979950e-02,  1.56040579e-01,  5.22901863e-02,\n",
       "         5.73707700e-01, -4.65331376e-02,  5.18755913e-02,  4.20732588e-01,\n",
       "        -3.76510680e-01,  7.82364607e-02,  2.38731459e-01, -2.70873964e-01,\n",
       "        -3.36302817e-03,  2.76647091e-01, -1.95961475e-01, -8.57717544e-02,\n",
       "         1.92644283e-01, -1.90944135e-01,  1.58362806e-01, -5.36770046e-01,\n",
       "        -4.93433654e-01, -3.97251993e-01,  2.38273829e-01, -1.07643932e-01,\n",
       "        -2.76174426e-01, -9.52055007e-02, -1.96564823e-01,  2.74631917e-01,\n",
       "         2.54668415e-01,  7.41481632e-02,  4.17505026e-01,  3.04305911e-01,\n",
       "        -2.86001652e-01, -1.05009302e-01, -4.86809313e-02, -1.72155276e-01,\n",
       "        -3.20856571e-01,  3.05841863e-01, -1.21447638e-01,  1.58086389e-01,\n",
       "        -4.25192714e-03,  1.16253346e-01, -1.82380438e-01,  8.84100124e-02,\n",
       "        -5.87202944e-02,  3.62655997e-01,  2.83343434e-01, -1.30855367e-02,\n",
       "        -4.37988043e-01, -1.46791786e-01,  2.99134523e-01, -5.79553060e-02,\n",
       "        -9.18089300e-02, -9.18958038e-02,  3.93311232e-01,  1.08400732e-02,\n",
       "        -1.69044107e-01, -5.90536743e-02, -1.53888762e-03,  1.33801132e-01,\n",
       "        -1.39452815e-01, -5.48445880e-02,  7.34068453e-02,  2.72303939e-01,\n",
       "         9.45215106e-01,  1.02719873e-01, -1.38324797e-01, -2.31238961e-01,\n",
       "         1.71944022e-01,  2.10909620e-01, -2.54404992e-01, -1.92950338e-01,\n",
       "         2.61518538e-01, -1.32394850e-01, -3.68777215e-02,  6.45852089e-02,\n",
       "         2.62529254e-01, -2.31692255e-01, -1.14099517e-01, -7.66525120e-02,\n",
       "         1.52939618e-01,  1.42339230e-01, -3.48875195e-01, -2.60979652e-01,\n",
       "         7.42367059e-02,  4.26052690e-01,  3.09538394e-01,  7.85715878e-03,\n",
       "        -2.26855844e-01, -1.81282699e-01,  6.96421862e-02, -2.86081955e-02,\n",
       "        -1.50051668e-01,  3.59758019e-01, -2.33378842e-01, -1.67623281e-01,\n",
       "        -1.80297002e-01, -6.66658819e-01, -2.86722481e-01, -2.04740897e-01,\n",
       "        -2.13494003e-01, -6.32069170e-01, -4.20288503e-01,  1.79895774e-01,\n",
       "        -3.97117436e-01, -3.53172451e-01, -1.52996153e-01,  8.19370076e-02,\n",
       "        -8.03882182e-02, -1.88679397e-02,  1.32608801e-01, -2.49097228e-01,\n",
       "         1.66343108e-01, -3.88150513e-02,  4.45811488e-02,  8.25025380e-01,\n",
       "         9.11672294e-01,  4.69561696e-01, -5.74344546e-02, -3.41902412e-02,\n",
       "        -2.08123088e-01,  8.22366893e-01, -2.30369419e-01,  1.62678659e-01,\n",
       "        -1.14261165e-01, -1.13915250e-01, -7.94278309e-02, -2.90425599e-01,\n",
       "         3.90864134e-01, -2.44255081e-01, -1.55297279e-01,  4.00787666e-02,\n",
       "         2.59938538e-01, -3.91828716e-02, -5.17499566e-01,  2.74782777e-01,\n",
       "        -2.19364166e-02,  5.64381361e-01, -2.82469869e-01,  2.99982876e-02,\n",
       "         5.44840455e-01, -1.54483020e-01, -1.77863240e-03,  4.18920703e-02,\n",
       "         3.59046102e-01,  6.13791823e-01, -1.72843337e-02,  3.57424170e-01,\n",
       "        -1.63648427e-01,  5.39149605e-02, -1.23583950e-01,  2.79559731e-01,\n",
       "         7.06585571e-02, -1.30735129e-01,  1.80578023e-01,  1.82235658e-01,\n",
       "        -1.39104396e-01, -2.01128319e-01,  5.16668558e-01,  2.04707831e-01,\n",
       "        -8.17814022e-02, -2.29923472e-01, -2.12176666e-01,  5.14997616e-02,\n",
       "         3.68817508e-01,  2.94749439e-02, -5.30411005e-01,  1.73559055e-01,\n",
       "        -2.29327589e-01, -3.01940411e-01,  2.83237398e-01,  2.68055230e-01,\n",
       "         1.54620826e-01, -2.03412220e-01,  1.10936753e-01,  6.60068631e-01,\n",
       "        -2.79458761e-01,  4.71501499e-02,  9.39002037e-02, -1.96111768e-01,\n",
       "         1.91012368e-01,  7.66650587e-02, -2.95900404e-01, -2.40880564e-01,\n",
       "        -2.06944674e-01, -8.04062188e-03,  5.20137787e+00, -1.03511132e-01,\n",
       "         2.87314892e-01,  2.04869434e-01,  7.79950470e-02,  3.53620976e-01,\n",
       "         3.60593870e-02, -2.61718333e-02, -1.51914969e-01, -5.24795890e-01,\n",
       "        -1.81351721e-01,  2.47554556e-02,  1.43424124e-01,  2.73294836e-01,\n",
       "         4.62847263e-01,  9.27818120e-02,  1.48601234e-02,  2.36358289e-02,\n",
       "         3.26137692e-01,  4.75044809e-02,  2.28190422e-02,  1.40733540e-01,\n",
       "        -6.24366403e-02,  3.22905123e-01,  3.65163952e-01, -1.29398316e-01,\n",
       "        -2.91332453e-01, -7.98588693e-02, -9.38161612e-02,  7.07154721e-03,\n",
       "         3.04196894e-01,  3.37378085e-01, -7.80136883e-02, -5.95345140e-01,\n",
       "        -3.83690298e-01, -3.34381998e-01,  1.32217884e-01,  1.76704213e-01,\n",
       "         1.64088309e-02,  1.70677274e-01,  2.16537863e-02,  4.77661118e-02,\n",
       "         4.08082902e-02,  1.51974365e-01,  5.51868260e-01, -7.87024722e-02,\n",
       "         1.12004995e-01,  1.25164419e-01,  1.06630020e-01, -1.42202988e-01,\n",
       "         1.05760425e-01, -1.45690352e-01, -4.41383094e-01, -2.47992128e-01,\n",
       "         2.39718691e-01, -3.41427445e-01,  3.04134227e-02, -8.00079554e-02,\n",
       "         1.37688622e-01, -1.66205242e-02, -1.01872802e-01,  3.01154584e-01,\n",
       "         3.47283453e-01,  1.26755118e-01, -7.35601783e-01,  5.64802647e-01,\n",
       "        -2.91722208e-01,  3.27017039e-01,  7.19496906e-02, -2.46797904e-01,\n",
       "         4.03944135e-01,  1.82327926e-02, -2.29011774e-01,  2.64381289e-01,\n",
       "        -6.89449787e-01,  9.24442038e-02,  3.40081275e-01,  1.84822589e-01,\n",
       "         1.09518267e-01, -1.65975705e-01,  1.26398969e+00,  1.07379854e-01,\n",
       "        -3.39944959e-02, -1.21256918e-01,  7.11663663e-02,  6.42369807e-01,\n",
       "        -1.10033028e-01, -1.03166923e-02, -2.63443589e-03,  7.13405013e-02,\n",
       "         1.74188584e-01, -2.27744639e-01,  1.96944028e-02, -7.76279569e-02,\n",
       "         2.33060569e-01,  1.57700107e-01, -1.05404049e-01, -2.12458819e-01,\n",
       "         6.72723800e-02,  7.59787738e-01, -1.61688000e-01, -6.07168861e-03,\n",
       "        -1.65869206e-01,  5.37447631e-04,  4.09014791e-01,  6.56922758e-02,\n",
       "         6.44534528e-02,  2.68279552e-01,  5.89007139e-01, -6.92868233e-02,\n",
       "        -2.76300311e-02, -8.87044817e-02, -1.65064111e-01,  2.12298065e-01,\n",
       "         1.94952548e-01, -3.07324529e-01,  2.63631463e-01,  4.44004565e-01,\n",
       "         1.54599279e-01, -9.43569362e-01, -7.29523376e-02,  1.55116662e-01,\n",
       "         3.95415008e-01,  2.48523787e-01,  1.14538535e-01, -2.55090475e-01,\n",
       "         1.69198364e-01, -1.28550157e-02,  2.10430279e-01, -3.10888886e-01,\n",
       "        -2.02115625e-01, -4.25672531e-02,  4.72248346e-02,  9.21361297e-02,\n",
       "        -1.90055910e-02,  8.21851432e-01, -1.24708414e-02, -7.97454640e-02,\n",
       "         3.29736888e-01, -3.99077088e-02, -2.78745830e-01, -1.57063961e-01,\n",
       "        -2.61715502e-01,  1.05791003e-01, -2.44339481e-01,  3.79132628e-01,\n",
       "         2.07030535e-01, -2.39264686e-02,  1.59189627e-02, -2.75547743e-01],\n",
       "       dtype=float32),\n",
       " 'record': {'brand': 'Dixon-Sullivan',\n",
       "  'model': 'a',\n",
       "  'color': 'Chocolate',\n",
       "  'storage': '227 GB',\n",
       "  'condition': 'Refurbished',\n",
       "  'price': 379,\n",
       "  'city': 'Jenniferton',\n",
       "  'description': 'Husband yet do develop term.',\n",
       "  'id': 'fc329261-cf7d-47e4-af56-c2813aa3dd14'}}"
      ]
     },
     "execution_count": 237,
     "metadata": {},
     "output_type": "execute_result"
    }
   ],
   "source": [
    "indexed_vectors[2]"
   ]
  },
  {
   "cell_type": "code",
   "execution_count": 35,
   "id": "4ab6aaa7-4ffe-4816-b729-218195b8b90b",
   "metadata": {},
   "outputs": [],
   "source": [
    "np.save(\"random_indexed_vectors.npy\", indexed_vectors)"
   ]
  },
  {
   "cell_type": "markdown",
   "id": "8b124b29-05a2-40bb-b795-7501cf7fb755",
   "metadata": {},
   "source": [
    "# Moving collection (general)"
   ]
  },
  {
   "cell_type": "code",
   "execution_count": 401,
   "id": "43de2ec7-7a10-4b52-a8c2-f50db0eecee1",
   "metadata": {},
   "outputs": [
    {
     "name": "stdout",
     "output_type": "stream",
     "text": [
      "collections=[]\n"
     ]
    }
   ],
   "source": [
    "from qdrant_client import QdrantClient\n",
    "from qdrant_client.http.models import VectorParams\n",
    "\n",
    "qdrant_client = QdrantClient(\n",
    "    url=qdrant_cluster_a, \n",
    "    api_key=qdrant_api_token_one,\n",
    "    timeout=120\n",
    ")\n",
    "\n",
    "print(qdrant_client.get_collections())"
   ]
  },
  {
   "cell_type": "code",
   "execution_count": 402,
   "id": "2dd86b59-78a1-4a2d-b642-d28294c3c070",
   "metadata": {},
   "outputs": [],
   "source": [
    "collection_name = \"test_123\"\n",
    "\n",
    "# Define the vector configuration\n",
    "vector_config = {\n",
    "    \"size\": 512,  \n",
    "    \"distance\": \"Cosine\"\n",
    "}\n",
    "\n",
    "if not qdrant_client.collection_exists(collection_name):\n",
    "    qdrant_client.create_collection(\n",
    "        collection_name,\n",
    "        vectors_config=VectorParams(size=512, distance='Cosine'),\n",
    "        shard_number=8\n",
    "    )"
   ]
  },
  {
   "cell_type": "code",
   "execution_count": 403,
   "id": "db6220f5-b01e-4068-95a3-5f09329aaa33",
   "metadata": {},
   "outputs": [
    {
     "name": "stdout",
     "output_type": "stream",
     "text": [
      "collections=[CollectionDescription(name='test_123')]\n"
     ]
    }
   ],
   "source": [
    "print(qdrant_client.get_collections())"
   ]
  },
  {
   "cell_type": "markdown",
   "id": "1007cff5-e5e3-426d-b6cc-fb2ae6756bc0",
   "metadata": {},
   "source": [
    "# Add the generated vectors to the VectorDB (Qdrant)"
   ]
  },
  {
   "cell_type": "code",
   "execution_count": 404,
   "id": "4e68e655-6214-42cd-ae6a-1a1aa0c31a6d",
   "metadata": {},
   "outputs": [],
   "source": [
    "import time\n",
    "BATCH_SIZE = 1500\n",
    "total_points = len(indexed_vectors)\n",
    "\n",
    "for i in range(0, total_points, BATCH_SIZE):\n",
    "    batch = [\n",
    "        {'id': v['id'],'vector': v['vector'],'payload': v['record']} for v in indexed_vectors[i:i + BATCH_SIZE]\n",
    "    ]\n",
    "    \n",
    "    retries = 3\n",
    "    while retries > 0:\n",
    "        try:\n",
    "            qdrant_client.upsert(collection_name, points=batch)\n",
    "            break  # Exit loop on success\n",
    "        except Exception as e:\n",
    "            print(f\"Error: {e}. Retrying in 5 seconds...\")\n",
    "            time.sleep(5)\n",
    "            retries -= 1\n",
    "    else:\n",
    "        print(\"Failed to upsert batch after 3 retries.\")"
   ]
  },
  {
   "cell_type": "markdown",
   "id": "e9030828-6e77-4148-91ca-9d37dfca7ea3",
   "metadata": {},
   "source": [
    "# Make snapshots on cluster A"
   ]
  },
  {
   "cell_type": "code",
   "execution_count": 405,
   "id": "6867fd88-89aa-4661-9005-92acfd5c6281",
   "metadata": {},
   "outputs": [],
   "source": [
    "from qdrant_client import QdrantClient, models\n",
    "\n",
    "client = QdrantClient(\n",
    "    qdrant_cluster_a, \n",
    "    api_key=qdrant_api_token_one, \n",
    "    timeout=120)\n",
    "\n",
    "vector_config = {\n",
    "    \"size\": 512,  \n",
    "    \"distance\": \"Cosine\"  \n",
    "}"
   ]
  },
  {
   "cell_type": "code",
   "execution_count": 406,
   "id": "385e2683-645a-4bf6-92b9-8fef6729aa63",
   "metadata": {},
   "outputs": [],
   "source": [
    "snapshot_urls = []\n",
    "for node_url in QDRANT_CLUSTER_NODES_cluster_a:\n",
    "    node_client = QdrantClient(node_url, api_key=qdrant_api_token_one, timeout=120)\n",
    "    snapshot_info = node_client.create_snapshot(collection_name=collection_name)\n",
    "\n",
    "    snapshot_url = f\"{node_url}/collections/test_123/snapshots/{snapshot_info.name}\"\n",
    "    snapshot_urls.append(snapshot_url)"
   ]
  },
  {
   "cell_type": "code",
   "execution_count": 415,
   "id": "f490fbd5-4d00-4f80-9852-02e77041dc3e",
   "metadata": {},
   "outputs": [
    {
     "name": "stdout",
     "output_type": "stream",
     "text": [
      "https://node-0-dcc900bb-ca86-43aa-b8f5-b\n",
      "https://node-1-dcc900bb-ca86-43aa-b8f5-b\n",
      "https://node-2-dcc900bb-ca86-43aa-b8f5-b\n"
     ]
    }
   ],
   "source": [
    "for url in snapshot_urls:\n",
    "    print(url[:40])"
   ]
  },
  {
   "cell_type": "markdown",
   "id": "c80f5246-7041-4a2a-873e-d3029b88c598",
   "metadata": {},
   "source": [
    "# Add snapshots to the local machine"
   ]
  },
  {
   "cell_type": "code",
   "execution_count": 408,
   "id": "aaecc9d3-e98d-4c88-b980-fc788fbc3f25",
   "metadata": {},
   "outputs": [],
   "source": [
    "import requests\n",
    "import os\n",
    "\n",
    "# Create a directory to store snapshots\n",
    "os.makedirs(\"snapshots\", exist_ok=True)\n",
    "\n",
    "local_snapshot_paths = []\n",
    "for snapshot_url in snapshot_urls:\n",
    "    snapshot_name = os.path.basename(snapshot_url)\n",
    "    local_snapshot_path = os.path.join(\"snapshots\", snapshot_name)\n",
    "\n",
    "    response = requests.get(\n",
    "        snapshot_url, headers={\"api-key\": qdrant_api_token_one}\n",
    "    )\n",
    "    with open(local_snapshot_path, \"wb\") as f:\n",
    "        response.raise_for_status()\n",
    "        f.write(response.content)\n",
    "\n",
    "    local_snapshot_paths.append(local_snapshot_path)"
   ]
  },
  {
   "cell_type": "code",
   "execution_count": 331,
   "id": "82dc9e53-01f7-46b3-8bb2-b41bd09f4017",
   "metadata": {},
   "outputs": [
    {
     "data": {
      "text/plain": [
       "['snapshots/test_123-3450217623120459-2024-11-05-10-25-09.snapshot',\n",
       " 'snapshots/test_123-5287075665811357-2024-11-05-10-25-15.snapshot',\n",
       " 'snapshots/test_123-569568797372637-2024-11-05-10-25-19.snapshot']"
      ]
     },
     "execution_count": 331,
     "metadata": {},
     "output_type": "execute_result"
    }
   ],
   "source": [
    "local_snapshot_paths"
   ]
  },
  {
   "cell_type": "markdown",
   "id": "aae2d5ae-b96b-454f-8984-7ff982f89318",
   "metadata": {},
   "source": [
    "# Add snapshots to the clusert B"
   ]
  },
  {
   "cell_type": "code",
   "execution_count": 409,
   "id": "58e36c13-3a0b-4eed-8bd9-e48bb20714bb",
   "metadata": {},
   "outputs": [],
   "source": [
    "from qdrant_client import QdrantClient\n",
    "from qdrant_client.http.models import VectorParams\n",
    "\n",
    "collection_name = 'test123'\n",
    "\n",
    "qdrant_client = QdrantClient(\n",
    "    url=qdrant_cluster_b, \n",
    "    api_key=qdrant_api_token_two,\n",
    "    timeout=300\n",
    ")\n",
    "\n",
    "if not qdrant_client.collection_exists(collection_name):\n",
    "    qdrant_client.create_collection(\n",
    "        collection_name,\n",
    "        vectors_config=VectorParams(size=512, distance='Cosine'),\n",
    "        shard_number=8\n",
    "    )"
   ]
  },
  {
   "cell_type": "code",
   "execution_count": 410,
   "id": "a5420429-33c2-43e5-8f81-dfbe8bbe41eb",
   "metadata": {},
   "outputs": [
    {
     "name": "stdout",
     "output_type": "stream",
     "text": [
      "collections=[CollectionDescription(name='test123')]\n"
     ]
    }
   ],
   "source": [
    "print(qdrant_client.get_collections())"
   ]
  },
  {
   "cell_type": "code",
   "execution_count": 411,
   "id": "730f7615-278b-4e7b-9e73-452269dc6125",
   "metadata": {},
   "outputs": [],
   "source": [
    "# Working fine!\n",
    "for i, snapshot_path in enumerate(local_snapshot_paths):\n",
    "    snapshot_name = os.path.basename(snapshot_path)\n",
    "    node_url = NEW_QDRANT_CLUSTER_NODES_cluster_b[i % len(NEW_QDRANT_CLUSTER_NODES_cluster_b)] \n",
    "\n",
    "    response = requests.post(\n",
    "        f\"{node_url}/collections/test123/snapshots/upload?priority=snapshot&wait=false\",\n",
    "        headers={\n",
    "            \"api-key\": qdrant_api_token_two,\n",
    "        },\n",
    "        files={\"snapshot\": (snapshot_name, open(snapshot_path, \"rb\"))},\n",
    "    )"
   ]
  },
  {
   "cell_type": "markdown",
   "id": "795c23ef-4f7b-43c4-82b9-a1cbb1ed52bf",
   "metadata": {},
   "source": [
    "# Update the shard_number (if necessary) by creating a new collection"
   ]
  },
  {
   "cell_type": "code",
   "execution_count": 412,
   "id": "96f25dec-b958-4faf-839e-a73ec38b5fcc",
   "metadata": {},
   "outputs": [
    {
     "name": "stderr",
     "output_type": "stream",
     "text": [
      "WARNING:root:init_from is deprecated\n"
     ]
    },
    {
     "data": {
      "text/plain": [
       "True"
      ]
     },
     "execution_count": 412,
     "metadata": {},
     "output_type": "execute_result"
    }
   ],
   "source": [
    "qdrant_client.create_collection(\n",
    "    collection_name = 'more_shards_12_test123',\n",
    "    vectors_config=vector_config,\n",
    "    init_from=models.InitFrom(collection = 'test123'),\n",
    "    shard_number=12)"
   ]
  },
  {
   "attachments": {
    "c8b1d41f-13f9-469c-a6c0-6dd22563e8c5.png": {
     "image/png": "[encoded data removed]"
    }
   },
   "cell_type": "markdown",
   "id": "e818b38a-cfec-4268-9d25-70f6db8b33c5",
   "metadata": {},
   "source": [
    "![image.png](attachment:c8b1d41f-13f9-469c-a6c0-6dd22563e8c5.png)"
   ]
  },
  {
   "cell_type": "code",
   "execution_count": null,
   "id": "2c5408ab-96f9-480a-8a20-949e3300da70",
   "metadata": {},
   "outputs": [],
   "source": []
  }
 ],
 "metadata": {
  "kernelspec": {
   "display_name": "Python 3 (ipykernel)",
   "language": "python",
   "name": "python3"
  },
  "language_info": {
   "codemirror_mode": {
    "name": "ipython",
    "version": 3
   },
   "file_extension": ".py",
   "mimetype": "text/x-python",
   "name": "python",
   "nbconvert_exporter": "python",
   "pygments_lexer": "ipython3",
   "version": "3.9.20"
  }
 },
 "nbformat": 4,
 "nbformat_minor": 5
}
