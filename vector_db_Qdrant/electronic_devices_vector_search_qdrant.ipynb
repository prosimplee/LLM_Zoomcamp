{
 "cells": [
  {
   "cell_type": "code",
   "execution_count": 1,
   "id": "e755f0fa-9a06-4dd6-ad33-b8d5f7f6c417",
   "metadata": {},
   "outputs": [],
   "source": [
    "from qdrant_client import QdrantClient\n",
    "from qdrant_client.http import models\n",
    "import json\n",
    "import os\n",
    "from openai import OpenAI\n",
    "import logging\n",
    "import json\n",
    "import numpy as np\n",
    "from transformers import CLIPProcessor, CLIPModel"
   ]
  },
  {
   "cell_type": "code",
   "execution_count": 3,
   "id": "96e51838-063e-4218-bf08-4b2f055f3820",
   "metadata": {},
   "outputs": [],
   "source": [
    "with open ('electronics.json', 'r') as file:\n",
    "    data = json.load(file)"
   ]
  },
  {
   "cell_type": "code",
   "execution_count": 4,
   "id": "86feed4b-eda2-42e4-b926-40bb79c0bafb",
   "metadata": {},
   "outputs": [
    {
     "name": "stdout",
     "output_type": "stream",
     "text": [
      "{'brand': 'Apple', 'model': 'iPhone 11 Pro Max', 'color': 'Gray', 'storage': '128 GB', 'condition': 'New', 'price': 1233.33, 'city': 'Warsaw'}\n",
      "{'brand': 'Samsung', 'model': 'Galaxy S21', 'color': 'Blue', 'storage': '64 GB', 'condition': 'Used', 'price': 740.0, 'city': 'Krakow'}\n",
      "{'brand': 'Xiaomi', 'model': 'Mi 11', 'color': 'Black', 'storage': '256 GB', 'condition': 'New', 'price': 999.99, 'city': 'Wroclaw'}\n"
     ]
    }
   ],
   "source": [
    "for phone in data['products']['phones'][:3]:\n",
    "    print(phone)"
   ]
  },
  {
   "cell_type": "code",
   "execution_count": 10,
   "id": "c2777b29-17c4-4310-857b-1d06a80b0086",
   "metadata": {},
   "outputs": [],
   "source": [
    "api_token = os.getenv(\"MY_API_KEY\")"
   ]
  },
  {
   "cell_type": "code",
   "execution_count": 11,
   "id": "ca4396cb-56a0-4a08-a2fb-448ede2f8447",
   "metadata": {},
   "outputs": [],
   "source": [
    "openai_client = OpenAI(api_key=api_token)"
   ]
  },
  {
   "cell_type": "code",
   "execution_count": 12,
   "id": "60f3dc89-e1d0-4121-aead-fd8aacf07962",
   "metadata": {},
   "outputs": [],
   "source": [
    "def generate_description(category, product):\n",
    "    prompt = f\"\"\"\n",
    "Generate a concise, engaging product description in two sentences, highlighting distinct features and unique usage details.\n",
    "Include relevant condition insights, such as battery health for USED phones OR years of use for other eletronic devices. If a phone condition is NEW then do not inculde any information about battery health.\n",
    "Example below:\n",
    "Iphone 11 Pro with 128 GB storage, meticulously cared for in a silicone case and glass protector, showing only minor screen wear. Battery health is at 80%, reflecting typical use over four years, and it comes with a charging cable and screen protector in the box.\n",
    "Let's get started, the item below:\n",
    "Product Type= {category}\\n\n",
    "Brand= {product['brand']}\\n\n",
    "Model= {product['model']}\\n\n",
    "Color= {product.get('color', 'N/A')}\\n\n",
    "Storage= {product.get('storage', 'N/A')}\\n\n",
    "Type= {product.get('type', 'N/A')}\\n\n",
    "Size= {product.get('size', 'N/A')}\\n\n",
    "Resolution= {product.get('resolution', 'N/A')}\\n\n",
    "Condition= {product['condition']}\\n\n",
    "Price= {product['price']}\\n\n",
    "City= {product['city']}\\n\n",
    "Description: \"\"\".format(\n",
    "        category=category,\n",
    "        brand=product['brand'],\n",
    "        model=product['model'],\n",
    "        color=product.get('color', ''),\n",
    "        storage=product.get('storage', ''),\n",
    "        type=product.get('type', ''),\n",
    "        size=product.get('size', ''),\n",
    "        resolution=product.get('resolution', ''),\n",
    "        condition=product['condition'],\n",
    "        price=product['price'],\n",
    "        city=product['city']\n",
    "    ).strip()\n",
    "    for attempt in range(3): \n",
    "        try:\n",
    "            response = openai_client.chat.completions.create(\n",
    "                model=\"gpt-4o-mini\",\n",
    "                messages=[{\"role\": \"user\", \"content\": prompt}],\n",
    "                max_tokens=100,\n",
    "                temperature=0.2\n",
    "            )\n",
    "            description = response.choices[0].message.content.strip()\n",
    "            return description\n",
    "        except Exception as e:\n",
    "            logging.error(f\"Error generating description for {product['brand']} {product['model']}: {e}\")\n",
    "            return \"Description not available.\""
   ]
  },
  {
   "cell_type": "code",
   "execution_count": 16,
   "id": "9946cf9a-7f12-4540-b1c6-8e4bc3aec26e",
   "metadata": {},
   "outputs": [],
   "source": [
    "def add_description(devices):\n",
    "    for category, products in devices['products'].items():\n",
    "        for product in products:\n",
    "            product['description'] = generate_description(category, product)\n",
    "        print(f'{category} are done')"
   ]
  },
  {
   "cell_type": "code",
   "execution_count": 17,
   "id": "f0c747c2-16e6-454b-b885-d650a496ee6d",
   "metadata": {},
   "outputs": [
    {
     "name": "stdout",
     "output_type": "stream",
     "text": [
      "phones are done\n",
      "tv are done\n",
      "coffee_machines are done\n",
      "tablets are done\n"
     ]
    }
   ],
   "source": [
    "add_description(data)"
   ]
  },
  {
   "cell_type": "code",
   "execution_count": 22,
   "id": "af1d35dc-4053-483c-b2f9-3738cf8d580f",
   "metadata": {},
   "outputs": [
    {
     "data": {
      "text/plain": [
       "{'brand': 'Apple',\n",
       " 'model': 'iPhone 11 Pro Max',\n",
       " 'color': 'Gray',\n",
       " 'storage': '128 GB',\n",
       " 'condition': 'New',\n",
       " 'price': 1233.33,\n",
       " 'city': 'Warsaw',\n",
       " 'description': 'Introducing the brand-new iPhone 11 Pro Max in sleek Gray, featuring a generous 128 GB of storage for all your apps, photos, and videos. Experience stunning performance and cutting-edge technology, all packaged in a pristine device that’s ready to elevate your mobile experience in Warsaw.',\n",
       " 'id': 1}"
      ]
     },
     "execution_count": 22,
     "metadata": {},
     "output_type": "execute_result"
    }
   ],
   "source": [
    "data['products']['phones'][0]"
   ]
  },
  {
   "cell_type": "code",
   "execution_count": 23,
   "id": "c206a425-6ff2-47b6-8849-2bab9fff1296",
   "metadata": {},
   "outputs": [],
   "source": [
    "def add_id(devices):\n",
    "    id = 1\n",
    "    for category, product in devices['products'].items():\n",
    "        for item in product:\n",
    "            item['id'] = id\n",
    "            id += 1"
   ]
  },
  {
   "cell_type": "code",
   "execution_count": 24,
   "id": "7267efa8-2323-46c1-b2f2-dba9725f0788",
   "metadata": {},
   "outputs": [],
   "source": [
    "add_id(data)"
   ]
  },
  {
   "cell_type": "code",
   "execution_count": 25,
   "id": "238b4a25-89c0-4ff6-982d-95f3e7f8a7b5",
   "metadata": {},
   "outputs": [
    {
     "data": {
      "text/plain": [
       "{'brand': 'Apple',\n",
       " 'model': 'iPhone 11 Pro Max',\n",
       " 'color': 'Gray',\n",
       " 'storage': '128 GB',\n",
       " 'condition': 'New',\n",
       " 'price': 1233.33,\n",
       " 'city': 'Warsaw',\n",
       " 'description': 'Introducing the brand-new iPhone 11 Pro Max in sleek Gray, featuring a generous 128 GB of storage for all your apps, photos, and videos. Experience stunning performance and cutting-edge technology, all packaged in a pristine device that’s ready to elevate your mobile experience in Warsaw.',\n",
       " 'id': 1}"
      ]
     },
     "execution_count": 25,
     "metadata": {},
     "output_type": "execute_result"
    }
   ],
   "source": [
    "data['products']['phones'][0]"
   ]
  },
  {
   "cell_type": "code",
   "execution_count": 26,
   "id": "ced8ed38-4336-45a5-bbbd-84196b265cfc",
   "metadata": {},
   "outputs": [],
   "source": [
    "with open ('updated_info.json', 'w') as file:\n",
    "    json.dump(data, file, indent = 4)"
   ]
  },
  {
   "cell_type": "code",
   "execution_count": 27,
   "id": "14caff45-6c35-43d4-8228-3afc3a5e2927",
   "metadata": {},
   "outputs": [],
   "source": [
    "with open ('updated_info.json', 'r') as items:\n",
    "    electronic_products = json.load(items)"
   ]
  },
  {
   "cell_type": "code",
   "execution_count": 28,
   "id": "5f40b13e-1d81-4997-9b2b-9d316b30c82c",
   "metadata": {},
   "outputs": [
    {
     "data": {
      "text/plain": [
       "{'brand': 'Samsung',\n",
       " 'model': 'Galaxy S21',\n",
       " 'color': 'Blue',\n",
       " 'storage': '64 GB',\n",
       " 'condition': 'Used',\n",
       " 'price': 740.0,\n",
       " 'city': 'Krakow',\n",
       " 'description': 'Samsung Galaxy S21 in a stunning blue finish, featuring 64 GB of storage and a sleek design that fits comfortably in your hand. This gently used device shows minimal signs of wear, with a battery health of 85%, ensuring reliable performance for your daily needs, and it comes with a charging cable for your convenience.',\n",
       " 'id': 2}"
      ]
     },
     "execution_count": 28,
     "metadata": {},
     "output_type": "execute_result"
    }
   ],
   "source": [
    "electronic_products['products']['phones'][1]"
   ]
  },
  {
   "cell_type": "code",
   "execution_count": 29,
   "id": "2c77c717-423c-4b75-8b05-f31f0906507a",
   "metadata": {},
   "outputs": [
    {
     "name": "stdout",
     "output_type": "stream",
     "text": [
      "{'brand': 'Apple', 'model': 'iPhone 11 Pro Max', 'color': 'Gray', 'storage': '128 GB', 'condition': 'New', 'price': 1233.33, 'city': 'Warsaw', 'description': 'Introducing the brand-new iPhone 11 Pro Max in sleek Gray, featuring a generous 128 GB of storage for all your apps, photos, and videos. Experience stunning performance and cutting-edge technology, all packaged in a pristine device that’s ready to elevate your mobile experience in Warsaw.', 'id': 1}\n",
      "{'brand': 'Samsung', 'model': 'QN90A', 'size': '65 inch', 'resolution': '4K', 'condition': 'New', 'price': 1399.99, 'city': 'Warsaw', 'description': 'Experience stunning visuals with the brand-new Samsung QN90A 65-inch 4K TV, designed to elevate your home entertainment with vibrant colors and exceptional clarity. With its sleek design and advanced Quantum HDR technology, this TV is perfect for movie nights or gaming sessions, ensuring every detail comes to life in your living room.', 'id': 46}\n",
      "{'brand': \"De'Longhi\", 'model': 'Magnifica S', 'type': 'Fully Automatic', 'condition': 'New', 'price': 749.99, 'city': 'Warsaw', 'description': \"Experience café-quality coffee at home with the De'Longhi Magnifica S, a fully automatic machine that effortlessly brews espresso, cappuccino, and more at the touch of a button. With its sleek design and intuitive controls, this new coffee maker transforms your kitchen into a barista's paradise, ensuring every cup is crafted to perfection.\", 'id': 56}\n",
      "{'brand': 'Apple', 'model': 'iPad Pro', 'storage': '128 GB', 'condition': 'Used', 'price': 999.99, 'city': 'Warsaw', 'description': 'Apple iPad Pro with 128 GB storage, expertly maintained and in excellent condition, showcasing minimal signs of wear. This device has been gently used for two years, ensuring optimal performance, and comes complete with its original charging cable and protective case for added convenience.', 'id': 66}\n"
     ]
    }
   ],
   "source": [
    "# Device per category\n",
    "for category, products in electronic_products['products'].items():\n",
    "    for product in products:\n",
    "        print(product)\n",
    "        break"
   ]
  },
  {
   "cell_type": "code",
   "execution_count": 34,
   "id": "643bcbdb-0d5e-453c-a25e-c8d11a89229b",
   "metadata": {},
   "outputs": [],
   "source": [
    "import torch\n",
    "from transformers import CLIPModel, CLIPProcessor\n",
    "from qdrant_client import QdrantClient\n",
    "from qdrant_client.http import models as qdrant_models"
   ]
  },
  {
   "cell_type": "code",
   "execution_count": 31,
   "id": "b252e19c-878b-42c4-80fc-011fef822b5c",
   "metadata": {},
   "outputs": [],
   "source": [
    "model = CLIPModel.from_pretrained(\"openai/clip-vit-base-patch16\")\n",
    "processor = CLIPProcessor.from_pretrained(\"openai/clip-vit-base-patch16\")"
   ]
  },
  {
   "cell_type": "code",
   "execution_count": 32,
   "id": "798058f3-d7bb-4405-adf9-5c778ee9ebbf",
   "metadata": {},
   "outputs": [],
   "source": [
    "client = QdrantClient(url='http://localhost:6333') "
   ]
  },
  {
   "cell_type": "code",
   "execution_count": 35,
   "id": "9d6f89ea-90d9-4b66-beba-4fecfff4a271",
   "metadata": {},
   "outputs": [],
   "source": [
    "collection_name = 'electronic_devices'\n",
    "if not client.collection_exists(collection_name):\n",
    "    client.create_collection(\n",
    "        collection_name,\n",
    "        vectors_config=qdrant_models.VectorParams(size=512, distance='Cosine')  # Adjust size based on CLIP\n",
    "    )"
   ]
  },
  {
   "cell_type": "code",
   "execution_count": 36,
   "id": "81255bcc-05ae-4f8e-be20-6012cdcb1236",
   "metadata": {},
   "outputs": [],
   "source": [
    "points = []\n",
    "for category, item in electronic_products['products'].items():\n",
    "    for product in item:\n",
    "        combined_text = f\"{category}{product['brand']}{product['model']}{product.get('color', '')}{product.get('storage', '')}{product.get('size', '')}{product.get('resolution', '')}{product['condition']}{product['price']}{product['city']}{product['description']}\"\n",
    "        inputs = processor(text=combined_text, return_tensors=\"pt\", padding=True, truncation=True)\n",
    "        with torch.no_grad():\n",
    "            embeddings = model.get_text_features(**inputs)\n",
    "            point = {\n",
    "                'id': product['id'],\n",
    "                'vector': embeddings.squeeze().tolist(),\n",
    "                'payload': product \n",
    "            }\n",
    "            points.append(point)"
   ]
  },
  {
   "cell_type": "code",
   "execution_count": 37,
   "id": "1b9aa9e4-100b-4f43-a3e7-b684a5991419",
   "metadata": {},
   "outputs": [
    {
     "data": {
      "text/plain": [
       "UpdateResult(operation_id=0, status=<UpdateStatus.COMPLETED: 'completed'>)"
      ]
     },
     "execution_count": 37,
     "metadata": {},
     "output_type": "execute_result"
    }
   ],
   "source": [
    "client.upsert(\n",
    "    collection_name, \n",
    "    points)"
   ]
  },
  {
   "cell_type": "code",
   "execution_count": 40,
   "id": "05c72ed3-9f13-428c-b9c9-ce85d49ded54",
   "metadata": {},
   "outputs": [],
   "source": [
    "query = 'Please find a NEW Samsung phone for me in blue color with a storage size of at least 120GB'\n",
    "\n",
    "inputs = processor(text=query, return_tensors=\"pt\", padding=True, truncation=True)\n",
    "with torch.no_grad():\n",
    "    query_embedding = model.get_text_features(**inputs)\n",
    "\n",
    "# Convert to list format for Qdrant\n",
    "query_embedding = query_embedding.squeeze().tolist()"
   ]
  },
  {
   "cell_type": "code",
   "execution_count": 41,
   "id": "f1493b73-4147-4a9a-991d-beef77e3b776",
   "metadata": {},
   "outputs": [
    {
     "name": "stdout",
     "output_type": "stream",
     "text": [
      "0.7632795 {'brand': 'Samsung', 'model': 'Galaxy A52', 'color': 'Awesome Blue', 'storage': '128 GB', 'condition': 'New', 'price': 499.99, 'city': 'Torun', 'description': 'Introducing the Samsung Galaxy A52 in a stunning Awesome Blue, featuring 128 GB of storage for all your apps, photos, and videos. This brand-new device combines sleek design with powerful performance, making it the perfect companion for your daily adventures, all for just $499.99 in Torun.', 'id': 12}\n",
      "0.6951234 {'brand': 'Apple', 'model': 'iPhone 12 Mini', 'color': 'Blue', 'storage': '128 GB', 'condition': 'New', 'price': 949.99, 'city': 'Swidnica', 'description': 'Introducing the brand-new iPhone 12 Mini in a stunning blue finish, featuring 128 GB of storage for all your apps, photos, and videos. With its compact design and powerful performance, this phone is perfect for on-the-go users who value both style and functionality, all at an unbeatable price of $949.99.', 'id': 40}\n",
      "0.6595078 {'brand': 'Samsung', 'model': 'Galaxy A32', 'color': 'Black', 'storage': '128 GB', 'condition': 'New', 'price': 599.99, 'city': 'Tychy', 'description': 'Discover the sleek Samsung Galaxy A32 in stunning black, featuring 128 GB of storage for all your apps, photos, and videos. Brand new and ready to impress, this smartphone combines cutting-edge technology with a stylish design, making it the perfect companion for your daily adventures.', 'id': 33}\n"
     ]
    }
   ],
   "source": [
    "collection_name = 'electronic_devices'\n",
    "\n",
    "# Perform the search\n",
    "results = client.search(\n",
    "    collection_name=collection_name,\n",
    "    query_vector=query_embedding,\n",
    "    limit=3\n",
    ")\n",
    "\n",
    "# Print the results\n",
    "for result in results:\n",
    "    print(result.score, result.payload)"
   ]
  },
  {
   "cell_type": "code",
   "execution_count": null,
   "id": "27c33165-6ee9-49dc-ba4b-cba820b142bf",
   "metadata": {},
   "outputs": [],
   "source": []
  }
 ],
 "metadata": {
  "kernelspec": {
   "display_name": "Python 3 (ipykernel)",
   "language": "python",
   "name": "python3"
  },
  "language_info": {
   "codemirror_mode": {
    "name": "ipython",
    "version": 3
   },
   "file_extension": ".py",
   "mimetype": "text/x-python",
   "name": "python",
   "nbconvert_exporter": "python",
   "pygments_lexer": "ipython3",
   "version": "3.9.20"
  }
 },
 "nbformat": 4,
 "nbformat_minor": 5
}
