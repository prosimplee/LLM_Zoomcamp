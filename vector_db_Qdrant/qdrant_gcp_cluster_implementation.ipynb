{
 "cells": [
  {
   "cell_type": "code",
   "execution_count": 8,
   "id": "35eba793-e4cc-4944-9a20-b5c9772f3505",
   "metadata": {},
   "outputs": [],
   "source": [
    "import torch\n",
    "from transformers import CLIPProcessor, CLIPModel\n",
    "from faker import Faker\n",
    "import numpy as np\n",
    "from tqdm import tqdm"
   ]
  },
  {
   "cell_type": "code",
   "execution_count": 9,
   "id": "a8181ad8-a41b-454c-b3b9-802d50c95040",
   "metadata": {},
   "outputs": [],
   "source": [
    "qdrant_api_token = os.getenv(\"QDRANT_TOKEN\")"
   ]
  },
  {
   "cell_type": "code",
   "execution_count": 45,
   "id": "737afb26-d52b-4704-8ae7-659038888754",
   "metadata": {},
   "outputs": [
    {
     "data": {
      "text/plain": [
       "<torch.autograd.grad_mode.no_grad at 0x35cb6a640>"
      ]
     },
     "execution_count": 45,
     "metadata": {},
     "output_type": "execute_result"
    }
   ],
   "source": [
    "model.eval()\n",
    "torch.no_grad()"
   ]
  },
  {
   "cell_type": "code",
   "execution_count": 46,
   "id": "1f137636-d11a-4c33-8614-200c0ec40aca",
   "metadata": {},
   "outputs": [],
   "source": [
    "record = {\n",
    "    'brand': fake.company(),\n",
    "    'model': fake.word(),\n",
    "    'color': fake.color_name(),\n",
    "    'storage': f\"{fake.random_int(64, 512)} GB\",\n",
    "    'condition': fake.random_element(['New', 'Used', 'Refurbished']),\n",
    "    'price': round(fake.random_number(digits=3), 2),\n",
    "    'city': fake.city(),\n",
    "    'description': fake.sentence(),\n",
    "    'id': fake.uuid4()\n",
    "    }"
   ]
  },
  {
   "cell_type": "code",
   "execution_count": 47,
   "id": "c667b5a0-65d2-484b-8a58-3d8b440dbf15",
   "metadata": {},
   "outputs": [],
   "source": [
    "def generate_text(record):\n",
    "    fields = [\n",
    "        f\"brand: {record.get('brand', 'N/A')}Model: {record.get('model', 'N/A')}\",\n",
    "        f\"color: {record.get('color', 'N/A')}\",\n",
    "        f\"storage: {record.get('storage', 'N/A')}\",\n",
    "        f\"condition: {record.get('condition', 'N/A')}\",\n",
    "        f\"price: ${record.get('price', 'N/A')}\",\n",
    "        f\"city: {record.get('city', 'N/A')}\",\n",
    "        f\"description: {record.get('description', '')}\"\n",
    "    ]\n",
    "    return \". \".join(fields)"
   ]
  },
  {
   "cell_type": "code",
   "execution_count": 48,
   "id": "362d2cdc-702e-41e2-ad49-1c6f92206cc4",
   "metadata": {},
   "outputs": [
    {
     "data": {
      "text/plain": [
       "'brand: gibbs, davis and wheelermodel: down. color: darkmagenta. storage: 236 gb. condition: used. price: $369. city: hooperborough. description: beautiful particularly indicate strong use machine majority father.'"
      ]
     },
     "execution_count": 48,
     "metadata": {},
     "output_type": "execute_result"
    }
   ],
   "source": [
    "generate_text(record).lower()"
   ]
  },
  {
   "cell_type": "code",
   "execution_count": 49,
   "id": "29828703-ac6f-45b3-8b56-a5bd6f691425",
   "metadata": {},
   "outputs": [],
   "source": [
    "# Function to generate a single embedding\n",
    "def generate_embedding(fields_concat):\n",
    "    inputs = processor(text=fields_concat, images=None, return_tensors=\"pt\", padding=True)\n",
    "    outputs = model.get_text_features(**inputs)\n",
    "    return outputs.detach().numpy().flatten()"
   ]
  },
  {
   "cell_type": "code",
   "execution_count": 53,
   "id": "347599f9-d721-40a2-9bc7-da5a3e2e107c",
   "metadata": {},
   "outputs": [],
   "source": [
    "indexed_vectors = []\n",
    "\n",
    "# Number of vectors and points\n",
    "num_vectors = 200_000"
   ]
  },
  {
   "cell_type": "code",
   "execution_count": 54,
   "id": "ae1296b5-aad8-46a1-96a9-ea5600ef08f2",
   "metadata": {},
   "outputs": [
    {
     "name": "stderr",
     "output_type": "stream",
     "text": [
      "Generating indexed vectors: 100%|███████████████████████████████████████████████████████████████████████████████████████████████████████| 200000/200000 [44:11<00:00, 75.42it/s]\n"
     ]
    }
   ],
   "source": [
    "for _ in tqdm(range(num_vectors), desc=\"Generating indexed vectors\"):\n",
    "    # Create a randomized record similar to the provided format using Faker\n",
    "    record = {\n",
    "        'brand': fake.company(),\n",
    "        'model': fake.word(),\n",
    "        'color': fake.color_name(),\n",
    "        'storage': f\"{fake.random_int(64, 512)} GB\",\n",
    "        'condition': fake.random_element(['New', 'Used', 'Refurbished']),\n",
    "        'price': round(fake.random_number(digits=3), 2),\n",
    "        'city': fake.city(),\n",
    "        'description': fake.sentence(),\n",
    "        'id': fake.uuid4()\n",
    "    }\n",
    "    text = generate_text(record)\n",
    "    embedding = generate_embedding(text)\n",
    "    indexed_vectors.append({\"id\": record['id'], \"vector\": embedding, \"record\": record})"
   ]
  },
  {
   "cell_type": "code",
   "execution_count": 57,
   "id": "78a01fcf-3981-4436-98e3-2443a961647a",
   "metadata": {},
   "outputs": [
    {
     "data": {
      "text/plain": [
       "{'id': '39471b24-32bf-43d5-9844-5a0497c92ecc',\n",
       " 'vector': array([ 1.16839908e-01, -1.51083916e-01,  1.45644024e-02, -5.71777523e-02,\n",
       "        -4.76212144e-01,  1.76852793e-01, -6.06795371e-01,  1.25966072e-01,\n",
       "        -5.70282459e-01,  5.20936251e-02, -2.26912513e-01,  2.77590483e-01,\n",
       "         4.78487611e-02, -5.46748042e-02, -4.21057865e-02,  1.68138117e-01,\n",
       "         1.66653171e-02,  2.80171573e-01, -2.00785458e-01, -4.21660617e-02,\n",
       "         3.99372965e-01, -2.90792882e-01,  3.18693459e-01, -1.38133675e-01,\n",
       "        -1.67281538e-01, -1.37304142e-02, -1.62990153e-01, -4.43391919e-01,\n",
       "        -4.57302034e-02, -1.63907498e-01, -1.54298976e-01,  1.19418927e-01,\n",
       "         2.32386857e-01,  1.10357948e-01, -1.58626765e-01,  3.14723372e-01,\n",
       "        -5.25415018e-02,  1.02685004e-01, -3.40776563e-01, -4.11175877e-01,\n",
       "         7.40989596e-02,  9.77465734e-02,  2.27091238e-02,  2.48404682e-01,\n",
       "        -3.38782758e-01, -1.64552718e-01, -2.43533939e-01,  2.53480375e-01,\n",
       "         1.27060741e-01,  1.53510839e-01,  4.34924692e-01, -8.84108767e-02,\n",
       "        -2.05404162e-01,  8.68790001e-02,  5.69722988e-02, -1.04209684e-01,\n",
       "         1.46227345e-01, -6.17656112e-02, -4.25974876e-02, -2.51820385e-01,\n",
       "         1.19069062e-01, -3.34816754e-01,  3.61724079e-01,  1.69818863e-01,\n",
       "         1.06313601e-02, -4.70948637e-01,  3.39744568e-01, -6.74470186e-01,\n",
       "         6.40429854e-02, -1.96682543e-01, -1.45626381e-01,  2.58617163e-01,\n",
       "        -1.24900557e-01, -4.69209313e-01, -4.20374691e-01,  4.73845229e-02,\n",
       "        -1.64976925e-01, -1.23596862e-01, -2.95224845e-01, -1.84794337e-01,\n",
       "         2.32164770e-01,  4.40660179e-01, -7.80894682e-02,  8.75836760e-02,\n",
       "        -3.08057398e-01,  1.31519139e-01,  1.96961150e-01,  1.20933726e-02,\n",
       "        -3.69650275e-01, -1.78092763e-01,  3.81118506e-01, -1.58099174e-01,\n",
       "        -1.00994729e-01, -2.55775481e-01, -1.96493790e-01,  2.64527857e-01,\n",
       "         1.61705017e-02,  2.00558499e-01, -1.02960110e-01, -6.75785840e-02,\n",
       "        -4.41488251e-02, -1.50680855e-01,  5.28159738e-01,  3.48512791e-02,\n",
       "        -7.07531124e-02,  5.89296967e-02,  4.19547439e-01,  4.51412722e-02,\n",
       "        -1.73687905e-01,  6.11694455e-01,  1.19114727e-01,  1.82103813e-02,\n",
       "        -1.24076322e-01, -8.01352710e-02, -3.38690996e-01,  4.00074750e-01,\n",
       "        -3.64772141e-01,  9.49850529e-02, -5.32086641e-02,  2.90365309e-01,\n",
       "         3.29645053e-02,  4.92102087e-01, -3.36476505e-01,  1.90257192e-01,\n",
       "        -4.20249581e-01, -3.59621868e-02, -1.43783301e-01, -3.00186351e-02,\n",
       "         1.30636007e-01,  5.86895645e-02, -5.53338081e-02,  1.12925880e-01,\n",
       "         5.40191770e-01,  3.84426296e-01,  6.21448755e-02,  2.42228806e-02,\n",
       "        -1.41105741e-01,  3.15829873e-01, -2.28993967e-01,  1.14224523e-01,\n",
       "        -3.50467861e-01, -2.82137990e-01,  3.35432351e-01,  1.28087193e-01,\n",
       "        -4.95060906e-02, -5.20839214e-01, -1.33086741e-03, -2.91946232e-01,\n",
       "         3.17904502e-01, -1.03881449e-01,  5.00944138e-01, -9.24372673e-02,\n",
       "        -2.82258540e-01,  1.74173266e-01,  1.61135957e-01, -1.94572538e-01,\n",
       "        -3.81859630e-01, -1.98221833e-01,  1.51440054e-01,  1.32745340e-01,\n",
       "        -3.52349207e-02,  1.30507335e-01,  1.23778865e-01, -2.24152833e-01,\n",
       "         1.05122991e-01,  2.80163467e-01, -2.20173478e-01,  4.32656109e-01,\n",
       "        -2.78699815e-01, -4.70020235e-01, -2.59636611e-01,  2.29911894e-01,\n",
       "        -3.38844657e-01,  2.00253725e-03,  3.19010586e-01,  1.97991699e-01,\n",
       "        -2.37633616e-01, -5.11728972e-03,  1.02843828e-01,  2.00232729e-01,\n",
       "         8.72083753e-02, -1.32754505e-01,  1.77019536e-01,  2.00498775e-01,\n",
       "        -1.33802816e-01,  2.53601730e-01,  4.08120602e-02, -2.97131091e-02,\n",
       "         5.17385066e-01,  1.65603936e-01, -1.63726717e-01, -2.50516951e-01,\n",
       "        -1.59847617e-01, -8.15595686e-02,  1.05326399e-01,  1.44965500e-01,\n",
       "        -3.70265543e-02, -2.86663115e-01,  1.10849127e-01, -5.70645690e-01,\n",
       "        -1.01435803e-01,  1.91732571e-02,  3.15852463e-03,  9.96261537e-02,\n",
       "         4.21569288e-01,  9.41290781e-02, -1.53369755e-02, -1.57509327e-01,\n",
       "         1.50533766e-02, -4.32479978e-01, -6.47203773e-02, -3.02548051e-01,\n",
       "        -4.51303601e-01,  1.15820527e-01,  1.43862516e-01,  1.85861826e-01,\n",
       "        -1.22199968e-01,  2.75337011e-01, -1.50492370e-01,  1.69445783e-01,\n",
       "         8.12073871e-02,  1.46771967e-01, -1.58932805e-01,  6.35772198e-02,\n",
       "        -1.24603674e-01,  1.10109180e-01, -1.78832173e-01, -2.36631170e-01,\n",
       "         9.64745134e-03, -3.54120255e-01,  3.86521369e-01, -1.37082741e-01,\n",
       "        -2.93931782e-01,  9.62772220e-02, -1.48828961e-02,  1.69714421e-01,\n",
       "        -9.54074264e-02, -2.88939238e-01,  2.21947268e-01,  1.73321247e-01,\n",
       "         7.88344860e-01, -4.54904065e-02, -3.70112062e-01,  2.88245887e-01,\n",
       "        -2.23863319e-01, -1.19056746e-01, -3.71693015e-01,  4.62443978e-02,\n",
       "         3.17774713e-02, -7.22719789e-01, -1.35295317e-01, -7.91618228e-01,\n",
       "         3.54429066e-01,  1.29736573e-01,  9.56528485e-02, -1.67116374e-02,\n",
       "        -6.71738684e-02,  1.25736728e-01, -7.14110658e-02,  5.67857660e-02,\n",
       "        -9.38618630e-02, -4.10671890e-01, -1.21471725e-01, -2.29150712e-01,\n",
       "        -3.74199212e-01, -5.68245053e-01,  1.51178986e-01, -1.59644365e-01,\n",
       "         5.79929724e-02, -2.06655920e-01, -2.23903522e-01, -4.39964712e-01,\n",
       "        -1.20980002e-01, -3.81621838e-01,  8.14149007e-02, -3.82518589e-01,\n",
       "        -2.30937630e-01, -5.29345393e-01, -2.08732635e-01,  1.80251688e-01,\n",
       "        -2.10791618e-01, -1.91037476e-01, -2.35125631e-01, -2.85496801e-01,\n",
       "         2.67275184e-01, -2.08033934e-01,  1.43741906e-01, -3.61242414e-01,\n",
       "         2.97525406e-01, -4.66099903e-02,  2.29046971e-01,  1.26538664e-01,\n",
       "        -2.04007626e-02,  1.25161499e-01,  1.34215415e-01,  3.97759318e-01,\n",
       "        -8.09074342e-02,  4.47928458e-01, -3.59199375e-01, -5.12703061e-02,\n",
       "         4.07792211e-01,  2.42557928e-01,  3.14444780e-01,  2.82764435e-03,\n",
       "         5.73872387e-01, -1.07639387e-01,  2.46712282e-01,  5.21770790e-02,\n",
       "        -3.48350108e-01,  1.74183220e-01, -1.86233521e-01,  3.53852749e-01,\n",
       "        -8.58551681e-01,  3.56582254e-02, -3.51189941e-01, -2.36491576e-01,\n",
       "         5.10717556e-02, -2.76922762e-01, -5.67477524e-01,  1.67471692e-01,\n",
       "         5.04866093e-02,  4.75362122e-01, -2.40595043e-01, -6.48996904e-02,\n",
       "        -4.80093956e-01, -2.01452345e-01,  2.11879417e-01,  2.95392603e-01,\n",
       "        -1.83104798e-01, -4.88536119e-01, -1.32742524e-02,  2.94330746e-01,\n",
       "        -1.13782257e-01, -2.36227334e-01,  2.83475369e-01,  8.69720876e-02,\n",
       "         1.36653721e-01,  2.66086638e-01, -4.52690721e-01,  1.29084066e-02,\n",
       "         1.81472182e-01,  3.99429649e-02, -8.14447165e-01,  2.50393152e-01,\n",
       "        -1.89828515e-01, -5.32001704e-02, -1.18491352e-01,  8.95670354e-02,\n",
       "        -1.66768193e-01, -1.36681050e-01, -1.00305885e-01,  6.79199815e-01,\n",
       "         9.55121219e-03,  1.11472204e-01, -3.60659599e-01, -8.81699026e-02,\n",
       "        -1.59760654e-01,  3.67000163e-01, -2.74295956e-01,  1.91963643e-01,\n",
       "        -1.21919438e-01, -2.48418465e-01,  4.69447041e+00, -2.44463116e-01,\n",
       "        -1.44589245e-01,  1.68111950e-01, -4.14651036e-02, -1.88146457e-02,\n",
       "         4.44951683e-01,  5.73999956e-02, -8.92535597e-02, -5.29652655e-01,\n",
       "        -3.68759036e-04,  9.61377174e-02,  2.03813106e-01,  1.37564257e-01,\n",
       "         4.83172655e-01,  4.07372862e-01, -3.00271064e-02,  1.22399740e-01,\n",
       "        -1.12440147e-01,  2.00804114e-01,  2.64252052e-02,  2.63724983e-01,\n",
       "        -2.49784261e-01,  3.53600681e-01, -6.73088282e-02,  8.87099467e-03,\n",
       "         2.72116542e-01, -1.67433888e-01, -2.34731138e-02, -1.62895441e-01,\n",
       "         3.46559703e-01,  3.32999319e-01,  1.22965321e-01,  1.40217319e-03,\n",
       "        -1.03281394e-01, -1.43927827e-01, -1.33161798e-01,  1.62793547e-01,\n",
       "         9.93323028e-02, -3.59416753e-02,  1.73535585e-01,  2.65211701e-01,\n",
       "        -2.10342228e-01,  2.45993987e-01, -1.03895351e-01, -5.69052622e-02,\n",
       "        -1.63223952e-01,  2.49327734e-01,  1.78765476e-01, -2.47705430e-02,\n",
       "        -1.38813704e-01, -3.48606169e-01, -2.91848958e-01, -4.70978171e-01,\n",
       "        -9.63448286e-02,  5.37630022e-02, -2.00055361e-01, -8.06130469e-02,\n",
       "        -2.30713874e-01,  4.96805720e-02,  2.34577745e-01,  9.80646014e-02,\n",
       "        -1.77229881e-01, -2.29571491e-01,  7.74908215e-02,  7.27900416e-02,\n",
       "        -3.85081053e-01,  2.52881259e-01,  1.86616093e-01,  3.14162225e-02,\n",
       "        -5.01126945e-02, -2.96459526e-01, -2.36142248e-01,  8.71133208e-02,\n",
       "        -3.16720873e-01, -1.27709061e-01,  6.40511960e-02,  2.41359472e-02,\n",
       "        -3.26114893e-02, -1.82326943e-01,  1.02839899e+00,  2.17071325e-01,\n",
       "         6.58113286e-02,  1.41696148e-02,  3.76737595e-01,  2.19647914e-01,\n",
       "         5.56851327e-02,  3.75489473e-01, -1.31608963e-01, -8.45227093e-02,\n",
       "         8.43651742e-02, -3.70483175e-02,  9.37040523e-02, -5.00868335e-02,\n",
       "         3.26397181e-01, -1.08895406e-01, -8.65249157e-01,  4.79815423e-01,\n",
       "        -2.43416891e-01,  5.03668129e-01, -3.28388810e-02, -4.05465998e-02,\n",
       "        -7.40189552e-02, -6.49695769e-02,  1.01693735e-01, -1.57701999e-01,\n",
       "        -3.78374189e-01,  1.83249518e-01, -3.87449339e-02, -9.40345824e-02,\n",
       "        -1.87664330e-02, -3.03144097e-01, -1.14288196e-01, -1.93290681e-01,\n",
       "         5.33344686e-01, -1.15635991e-01,  4.11170244e-01,  1.19065136e-01,\n",
       "         1.28265694e-01, -1.38364911e+00, -3.05474102e-02, -7.46762455e-02,\n",
       "         3.42698812e-01, -3.16827178e-01,  8.85320902e-02,  9.02221799e-02,\n",
       "        -5.30157387e-02, -1.15569949e-01,  3.24187726e-01, -4.03018177e-01,\n",
       "        -6.88174218e-02,  3.13104331e-01,  5.83734632e-01,  1.32122487e-01,\n",
       "         2.50845432e-01,  1.12938809e+00,  1.24308199e-01, -1.60967544e-01,\n",
       "         6.56154305e-02,  1.16164684e-01, -1.19899683e-01,  1.52873248e-01,\n",
       "         2.10195616e-01,  2.99011618e-02, -1.00106344e-01,  3.41487944e-01,\n",
       "         2.06634179e-02, -1.64249986e-02,  1.95199162e-01, -5.90017810e-02],\n",
       "       dtype=float32),\n",
       " 'record': {'brand': 'Francis-Campbell',\n",
       "  'model': 'water',\n",
       "  'color': 'Snow',\n",
       "  'storage': '73 GB',\n",
       "  'condition': 'New',\n",
       "  'price': 911,\n",
       "  'city': 'Port Kristinmouth',\n",
       "  'description': 'Manager with market view physical road.',\n",
       "  'id': '39471b24-32bf-43d5-9844-5a0497c92ecc'}}"
      ]
     },
     "execution_count": 57,
     "metadata": {},
     "output_type": "execute_result"
    }
   ],
   "source": [
    "indexed_vectors[1]"
   ]
  },
  {
   "cell_type": "code",
   "execution_count": 59,
   "id": "7565ebe2-0a66-4127-a2f6-7574cc7542f6",
   "metadata": {},
   "outputs": [],
   "source": [
    "np.save(\"indexed_vectors.npy\", indexed_vectors)"
   ]
  },
  {
   "cell_type": "code",
   "execution_count": 105,
   "id": "123d37a0-2096-4a6c-bf88-6031d01768da",
   "metadata": {},
   "outputs": [
    {
     "name": "stdout",
     "output_type": "stream",
     "text": [
      "collections=[]\n"
     ]
    }
   ],
   "source": [
    "from qdrant_client import QdrantClient\n",
    "from qdrant_client.http.models import VectorParams\n",
    "\n",
    "qdrant_client = QdrantClient(\n",
    "    url=\"https://f2216b0f-7418-45f1-963b-9c367be87692.us-east4-0.gcp.cloud.qdrant.io:6333\", \n",
    "    api_key=qdrant_api_token,\n",
    ")\n",
    "\n",
    "print(qdrant_client.get_collections())"
   ]
  },
  {
   "cell_type": "code",
   "execution_count": 106,
   "id": "4223b384-8921-4509-8373-86acdd5be8bf",
   "metadata": {},
   "outputs": [],
   "source": [
    "collection_name = \"random_data_clip_collection\"\n",
    "\n",
    "# Define the vector configuration\n",
    "vector_config = {\n",
    "    \"size\": 512,  \n",
    "    \"distance\": \"Cosine\"  \n",
    "}\n",
    "\n",
    "if not qdrant_client.collection_exists(collection_name):\n",
    "    qdrant_client.create_collection(\n",
    "        collection_name,\n",
    "        vectors_config=VectorParams(size=512, distance='Cosine')\n",
    "    )"
   ]
  },
  {
   "cell_type": "code",
   "execution_count": 107,
   "id": "db6ad53f-868f-44ed-b765-b2b5c3026963",
   "metadata": {},
   "outputs": [],
   "source": [
    "BATCH_SIZE = 150  # Reduce batch size\n",
    "points_to_upsert = [\n",
    "    {\n",
    "        'id': vector_data['id'],\n",
    "        'vector': vector_data['vector'],\n",
    "        'payload': vector_data['record']\n",
    "    } for vector_data in indexed_vectors\n",
    "]\n",
    "\n",
    "# Upsert points in batches with retry mechanism\n",
    "total_points = len(points_to_upsert)\n",
    "num_batches = math.ceil(total_points / BATCH_SIZE)\n",
    "\n",
    "for i in range(num_batches):\n",
    "    batch = points_to_upsert[i * BATCH_SIZE : (i + 1) * BATCH_SIZE]\n",
    "    success = False\n",
    "    retries = 3  # Number of retries\n",
    "    while not success and retries > 0:\n",
    "        try:\n",
    "            qdrant_client.upsert(\n",
    "                collection_name,\n",
    "                points=batch\n",
    "            )\n",
    "            success = True\n",
    "        except Exception as e:\n",
    "            print(f\"Error during upsert: {e}. Retrying in 5 seconds...\")\n",
    "            time.sleep(5)\n",
    "            retries -= 1\n",
    "    if not success:\n",
    "        print(\"Failed to upsert batch after 3 retries.\")"
   ]
  },
  {
   "cell_type": "code",
   "execution_count": 140,
   "id": "1f2200ad-6dbe-486c-a69a-6d827bc8c87a",
   "metadata": {},
   "outputs": [],
   "source": [
    "query = 'brand is Macdonald, Wilson and Mosley, storage is equal to 353 GB, color is Thistle, city equal to Trevinoland, description is: Support get pass great'\n",
    "embedded_query =  generate_embedding(query)"
   ]
  },
  {
   "cell_type": "code",
   "execution_count": 141,
   "id": "90a41c04-d3dc-4c19-8111-95dfe41fa6a9",
   "metadata": {},
   "outputs": [],
   "source": [
    "responses = qdrant_client.search(\n",
    "    collection_name=collection_name,\n",
    "    query_vector=embedded_query,\n",
    "    limit = 3)"
   ]
  },
  {
   "cell_type": "code",
   "execution_count": 142,
   "id": "73ba1714-8a5c-4e94-89a4-7a499b3a910e",
   "metadata": {},
   "outputs": [
    {
     "data": {
      "text/plain": [
       "[ScoredPoint(id='12e86092-399e-4d1e-b390-af058c0989f1', version=428, score=0.8161876, payload={'brand': 'Brown, Torres and Mueller', 'model': 'last', 'color': 'Thistle', 'storage': '93 GB', 'condition': 'Used', 'price': 50, 'city': 'Mcdonaldfurt', 'description': 'Better discussion although cause.', 'id': '12e86092-399e-4d1e-b390-af058c0989f1'}, vector=None, shard_key=None, order_value=None),\n",
       " ScoredPoint(id='851f6e59-4f11-45ec-8862-2831d0172056', version=528, score=0.81456876, payload={'brand': 'Mcdonald, Payne and Thompson', 'model': 'possible', 'color': 'MediumVioletRed', 'storage': '416 GB', 'condition': 'New', 'price': 707, 'city': 'Benitezhaven', 'description': 'Perhaps organization happy full address.', 'id': '851f6e59-4f11-45ec-8862-2831d0172056'}, vector=None, shard_key=None, order_value=None),\n",
       " ScoredPoint(id='c5e50085-862f-4dc5-9fc1-3a594b2526a6', version=476, score=0.8135719, payload={'brand': 'Mcdonald-Martinez', 'model': 'work', 'color': 'SlateGray', 'storage': '410 GB', 'condition': 'Used', 'price': 127, 'city': 'North Vernonmouth', 'description': 'Role voice however party song wind beautiful mind.', 'id': 'c5e50085-862f-4dc5-9fc1-3a594b2526a6'}, vector=None, shard_key=None, order_value=None)]"
      ]
     },
     "execution_count": 142,
     "metadata": {},
     "output_type": "execute_result"
    }
   ],
   "source": [
    "responses"
   ]
  },
  {
   "cell_type": "code",
   "execution_count": 143,
   "id": "d5b2aa66-eb0f-4e47-81a1-eb9069af9c38",
   "metadata": {},
   "outputs": [
    {
     "name": "stdout",
     "output_type": "stream",
     "text": [
      "0.8161876 {'brand': 'Brown, Torres and Mueller', 'model': 'last', 'color': 'Thistle', 'storage': '93 GB', 'condition': 'Used', 'price': 50, 'city': 'Mcdonaldfurt', 'description': 'Better discussion although cause.', 'id': '12e86092-399e-4d1e-b390-af058c0989f1'}\n",
      "0.81456876 {'brand': 'Mcdonald, Payne and Thompson', 'model': 'possible', 'color': 'MediumVioletRed', 'storage': '416 GB', 'condition': 'New', 'price': 707, 'city': 'Benitezhaven', 'description': 'Perhaps organization happy full address.', 'id': '851f6e59-4f11-45ec-8862-2831d0172056'}\n",
      "0.8135719 {'brand': 'Mcdonald-Martinez', 'model': 'work', 'color': 'SlateGray', 'storage': '410 GB', 'condition': 'Used', 'price': 127, 'city': 'North Vernonmouth', 'description': 'Role voice however party song wind beautiful mind.', 'id': 'c5e50085-862f-4dc5-9fc1-3a594b2526a6'}\n"
     ]
    }
   ],
   "source": [
    "for value in responses:\n",
    "    print(value.score, value.payload)"
   ]
  },
  {
   "cell_type": "code",
   "execution_count": null,
   "id": "c4951236-3a10-4498-bafd-ab86fba0606b",
   "metadata": {},
   "outputs": [],
   "source": []
  }
 ],
 "metadata": {
  "kernelspec": {
   "display_name": "Python 3 (ipykernel)",
   "language": "python",
   "name": "python3"
  },
  "language_info": {
   "codemirror_mode": {
    "name": "ipython",
    "version": 3
   },
   "file_extension": ".py",
   "mimetype": "text/x-python",
   "name": "python",
   "nbconvert_exporter": "python",
   "pygments_lexer": "ipython3",
   "version": "3.9.20"
  }
 },
 "nbformat": 4,
 "nbformat_minor": 5
}
